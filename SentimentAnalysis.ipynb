{
  "cells": [
    {
      "cell_type": "markdown",
      "metadata": {
        "id": "IdzeYa_AqAuk"
      },
      "source": [
        "# Sentiment Classification Using RNNs\n",
        "\n",
        "* Given the IMDB Movie Review Dataset, create an RNN model that predicts whether the given review is negative or positive.\n",
        "* You need to create your Dataset, Dataloader and Model. Keep your code modular and avoid hardcoding any parameter. This will allow you to experiment more easily.\n",
        "* Plot graphs for loss and accuracy for each epoch of a training loop. Try using wandb for logging training and validation losses, accuracies.\n",
        "* Use tqdm to keep track of the status of the training loop for an epoch"
      ]
    },
    {
      "cell_type": "markdown",
      "metadata": {
        "id": "Q6NN7DndxvFt"
      },
      "source": [
        "### 1. RNN Model\n",
        "#### 1.1 Build a Dataset from the IMDB Movie Review Dataset by taking reviews with word count between 100 and 500. Perform text processing on the movie reviews and create a word to index mapping for representing any review as a list of numbers.\n",
        "#### 1.2 Create Dataloaders for the train, test and validation datasets with appropriate batch sizes.\n",
        "#### 1.3 Create the Model class for the RNN Model. Create functions for running model training and testing."
      ]
    },
    {
      "cell_type": "code",
      "execution_count": 1,
      "metadata": {
        "colab": {
          "base_uri": "https://localhost:8080/"
        },
        "id": "DpR8af5l1FZK",
        "outputId": "b0c7d3a0-aa6c-4675-cfb2-31da2b6adf75"
      },
      "outputs": [
        {
          "name": "stdout",
          "output_type": "stream",
          "text": [
            "Requirement already satisfied: datasets in c:\\users\\satya\\appdata\\local\\programs\\python\\python39\\lib\\site-packages (2.18.0)\n",
            "Requirement already satisfied: torchmetrics in c:\\users\\satya\\appdata\\local\\programs\\python\\python39\\lib\\site-packages (1.3.2)\n",
            "Requirement already satisfied: filelock in c:\\users\\satya\\appdata\\local\\programs\\python\\python39\\lib\\site-packages (from datasets) (3.13.1)\n",
            "Requirement already satisfied: numpy>=1.17 in c:\\users\\satya\\appdata\\local\\programs\\python\\python39\\lib\\site-packages (from datasets) (1.22.0)\n",
            "Requirement already satisfied: pyarrow>=12.0.0 in c:\\users\\satya\\appdata\\local\\programs\\python\\python39\\lib\\site-packages (from datasets) (15.0.2)\n",
            "Requirement already satisfied: pyarrow-hotfix in c:\\users\\satya\\appdata\\local\\programs\\python\\python39\\lib\\site-packages (from datasets) (0.6)\n",
            "Requirement already satisfied: dill<0.3.9,>=0.3.0 in c:\\users\\satya\\appdata\\local\\programs\\python\\python39\\lib\\site-packages (from datasets) (0.3.8)\n",
            "Requirement already satisfied: pandas in c:\\users\\satya\\appdata\\local\\programs\\python\\python39\\lib\\site-packages (from datasets) (1.4.3)\n",
            "Requirement already satisfied: requests>=2.19.0 in c:\\users\\satya\\appdata\\local\\programs\\python\\python39\\lib\\site-packages (from datasets) (2.27.1)\n",
            "Requirement already satisfied: tqdm>=4.62.1 in c:\\users\\satya\\appdata\\local\\programs\\python\\python39\\lib\\site-packages (from datasets) (4.66.2)\n",
            "Requirement already satisfied: xxhash in c:\\users\\satya\\appdata\\local\\programs\\python\\python39\\lib\\site-packages (from datasets) (3.4.1)\n",
            "Requirement already satisfied: multiprocess in c:\\users\\satya\\appdata\\local\\programs\\python\\python39\\lib\\site-packages (from datasets) (0.70.16)\n",
            "Requirement already satisfied: fsspec<=2024.2.0,>=2023.1.0 in c:\\users\\satya\\appdata\\local\\programs\\python\\python39\\lib\\site-packages (from fsspec[http]<=2024.2.0,>=2023.1.0->datasets) (2024.2.0)\n",
            "Requirement already satisfied: aiohttp in c:\\users\\satya\\appdata\\local\\programs\\python\\python39\\lib\\site-packages (from datasets) (3.9.3)\n",
            "Requirement already satisfied: huggingface-hub>=0.19.4 in c:\\users\\satya\\appdata\\local\\programs\\python\\python39\\lib\\site-packages (from datasets) (0.22.1)\n",
            "Requirement already satisfied: packaging in c:\\users\\satya\\appdata\\local\\programs\\python\\python39\\lib\\site-packages (from datasets) (21.3)\n",
            "Requirement already satisfied: pyyaml>=5.1 in c:\\users\\satya\\appdata\\local\\programs\\python\\python39\\lib\\site-packages (from datasets) (6.0.1)\n",
            "Requirement already satisfied: torch>=1.10.0 in c:\\users\\satya\\appdata\\local\\programs\\python\\python39\\lib\\site-packages (from torchmetrics) (2.2.1+cu118)\n",
            "Requirement already satisfied: lightning-utilities>=0.8.0 in c:\\users\\satya\\appdata\\local\\programs\\python\\python39\\lib\\site-packages (from torchmetrics) (0.11.1)\n",
            "Requirement already satisfied: aiosignal>=1.1.2 in c:\\users\\satya\\appdata\\local\\programs\\python\\python39\\lib\\site-packages (from aiohttp->datasets) (1.3.1)\n",
            "Requirement already satisfied: attrs>=17.3.0 in c:\\users\\satya\\appdata\\local\\programs\\python\\python39\\lib\\site-packages (from aiohttp->datasets) (21.4.0)\n",
            "Requirement already satisfied: frozenlist>=1.1.1 in c:\\users\\satya\\appdata\\local\\programs\\python\\python39\\lib\\site-packages (from aiohttp->datasets) (1.4.1)\n",
            "Requirement already satisfied: multidict<7.0,>=4.5 in c:\\users\\satya\\appdata\\local\\programs\\python\\python39\\lib\\site-packages (from aiohttp->datasets) (6.0.5)\n",
            "Requirement already satisfied: yarl<2.0,>=1.0 in c:\\users\\satya\\appdata\\local\\programs\\python\\python39\\lib\\site-packages (from aiohttp->datasets) (1.9.4)\n",
            "Requirement already satisfied: async-timeout<5.0,>=4.0 in c:\\users\\satya\\appdata\\local\\programs\\python\\python39\\lib\\site-packages (from aiohttp->datasets) (4.0.3)\n",
            "Requirement already satisfied: typing-extensions>=3.7.4.3 in c:\\users\\satya\\appdata\\local\\programs\\python\\python39\\lib\\site-packages (from huggingface-hub>=0.19.4->datasets) (4.9.0)\n",
            "Requirement already satisfied: setuptools in c:\\users\\satya\\appdata\\local\\programs\\python\\python39\\lib\\site-packages (from lightning-utilities>=0.8.0->torchmetrics) (58.1.0)\n",
            "Requirement already satisfied: pyparsing!=3.0.5,>=2.0.2 in c:\\users\\satya\\appdata\\local\\programs\\python\\python39\\lib\\site-packages (from packaging->datasets) (3.0.6)\n",
            "Requirement already satisfied: urllib3<1.27,>=1.21.1 in c:\\users\\satya\\appdata\\local\\programs\\python\\python39\\lib\\site-packages (from requests>=2.19.0->datasets) (1.26.8)\n",
            "Requirement already satisfied: certifi>=2017.4.17 in c:\\users\\satya\\appdata\\local\\programs\\python\\python39\\lib\\site-packages (from requests>=2.19.0->datasets) (2021.10.8)\n",
            "Requirement already satisfied: charset-normalizer~=2.0.0 in c:\\users\\satya\\appdata\\local\\programs\\python\\python39\\lib\\site-packages (from requests>=2.19.0->datasets) (2.0.10)\n",
            "Requirement already satisfied: idna<4,>=2.5 in c:\\users\\satya\\appdata\\local\\programs\\python\\python39\\lib\\site-packages (from requests>=2.19.0->datasets) (3.3)\n",
            "Requirement already satisfied: sympy in c:\\users\\satya\\appdata\\local\\programs\\python\\python39\\lib\\site-packages (from torch>=1.10.0->torchmetrics) (1.12)\n",
            "Requirement already satisfied: networkx in c:\\users\\satya\\appdata\\local\\programs\\python\\python39\\lib\\site-packages (from torch>=1.10.0->torchmetrics) (3.2.1)\n",
            "Requirement already satisfied: jinja2 in c:\\users\\satya\\appdata\\local\\programs\\python\\python39\\lib\\site-packages (from torch>=1.10.0->torchmetrics) (3.0.3)\n",
            "Requirement already satisfied: colorama in c:\\users\\satya\\appdata\\local\\programs\\python\\python39\\lib\\site-packages (from tqdm>=4.62.1->datasets) (0.4.4)\n",
            "Requirement already satisfied: python-dateutil>=2.8.1 in c:\\users\\satya\\appdata\\local\\programs\\python\\python39\\lib\\site-packages (from pandas->datasets) (2.8.2)\n",
            "Requirement already satisfied: pytz>=2020.1 in c:\\users\\satya\\appdata\\local\\programs\\python\\python39\\lib\\site-packages (from pandas->datasets) (2021.3)\n",
            "Requirement already satisfied: six>=1.5 in c:\\users\\satya\\appdata\\local\\programs\\python\\python39\\lib\\site-packages (from python-dateutil>=2.8.1->pandas->datasets) (1.16.0)\n",
            "Requirement already satisfied: MarkupSafe>=2.0 in c:\\users\\satya\\appdata\\local\\programs\\python\\python39\\lib\\site-packages (from jinja2->torch>=1.10.0->torchmetrics) (2.0.1)\n",
            "Requirement already satisfied: mpmath>=0.19 in c:\\users\\satya\\appdata\\local\\programs\\python\\python39\\lib\\site-packages (from sympy->torch>=1.10.0->torchmetrics) (1.3.0)\n"
          ]
        }
      ],
      "source": [
        "!pip install datasets torchmetrics"
      ]
    },
    {
      "cell_type": "code",
      "execution_count": 2,
      "metadata": {
        "id": "DKFUUtZV09Ap"
      },
      "outputs": [],
      "source": [
        "import numpy as np\n",
        "import matplotlib.pyplot as plt\n",
        "\n",
        "from datasets import load_dataset\n",
        "import re\n",
        "from nltk.tokenize import RegexpTokenizer\n",
        "from nltk.stem import WordNetLemmatizer\n",
        "\n",
        "import torch\n",
        "from torch import nn\n",
        "import torch.optim as optim\n",
        "from torch.utils.data import Dataset, DataLoader\n",
        "from torch.nn.utils.rnn import pad_sequence\n",
        "from torchmetrics import Accuracy\n",
        "\n",
        "from tqdm import tqdm"
      ]
    },
    {
      "cell_type": "code",
      "execution_count": 3,
      "metadata": {
        "id": "DbVR4diJ4BxO"
      },
      "outputs": [],
      "source": [
        "SEED = 1234\n",
        "\n",
        "# set seed for all possible random functions to ensure reproducibility\n",
        "np.random.seed(SEED)\n",
        "torch.manual_seed(SEED)\n",
        "torch.cuda.manual_seed_all(SEED)\n",
        "torch.backends.cudnn.deterministic=True"
      ]
    },
    {
      "cell_type": "code",
      "execution_count": 4,
      "metadata": {
        "colab": {
          "base_uri": "https://localhost:8080/"
        },
        "id": "b-6qkjYjbhhs",
        "outputId": "21dfc59f-086d-4cc0-92fa-112eca83caed"
      },
      "outputs": [
        {
          "name": "stdout",
          "output_type": "stream",
          "text": [
            "Using cuda device\n"
          ]
        }
      ],
      "source": [
        "device = \"cuda\" if torch.cuda.is_available() else \"cpu\"\n",
        "print(f\"Using {device} device\")"
      ]
    },
    {
      "cell_type": "code",
      "execution_count": 5,
      "metadata": {
        "colab": {
          "base_uri": "https://localhost:8080/",
          "height": 345,
          "referenced_widgets": [
            "95399545d18b47b7aab51fc150b3484c",
            "f8faa3e7f38d4f62ba37c193f35fb9df",
            "f7a30d21a3b3497283cdb6c6075d8f6e",
            "aa8846d033da43f482585021f895ac73",
            "0c5c457c2f854d46ae27346406ac7e5b",
            "4c3fa2537ec34f698e05ff219163a17e",
            "f6fac7007ce145dab5e8fd5e57cdb77a",
            "da8f8e4ccd2c48a8a7eeb38d9b9dc947",
            "724183869dcc4441a061fee798363da8",
            "4dd05e94079f4bad85c6c7068b24dd4f",
            "cbf823a2f48f4befa0dd4a6cf4b9a04e",
            "5140c45ae36f465286f316e17555e667",
            "a88e8ddea6db43be84d944360a216ccb",
            "930aeec726c1426d903422bb2dfa839f",
            "96318fea93ba40638e75a5befa6f149f",
            "db986778b33d464a9165406fa986bd12",
            "a3ef4787ab4d41b589af6714ba6a2bed",
            "c0e3ee76015d4e0ba77fd5c9e9247c14",
            "9a0849b4ec244ee88ab88287d338756b",
            "5853cafb80d4412080a0c2dab5a9d8d9",
            "bc2455b74e344df4936219c1da83aace",
            "e4fae29dda874159bf2c0f7cde1264ad",
            "4c7bf91e130641e4b714678d88234126",
            "f289b3ebc48543809eabec5dee2999cd",
            "42cf78d2f4a9430e90a617d95d65deb9",
            "0ffa2084723e43ce826fa0c50b1a4c6e",
            "4d063106f8854b9b92e966a91aac4246",
            "5392da0086974a37a1ef392ed8069afd",
            "aa7eeed1f31f4fb0b0d19d6826833584",
            "8a0f27dce2c845b0a80914488547c86d",
            "67b18819538348fab85ef5f78ca8e607",
            "856902926767403086fa4605a24d5266",
            "03f70466c16a41bf9eeec49e40725b70",
            "37f0627fd039422d983a409226a82c19",
            "6783dffe23b24eeebd4d8e591362850d",
            "a30924333d0f4fa59951beafcc08daaf",
            "fc3fe5e122984d9690f6a6d5de05c7c7",
            "8f9e979d25d64afa8cd3959591e4ca01",
            "e47684b5acf64305bc9ea5b35b043b39",
            "485b298ecaf346a196e27edd7480f702",
            "e683f8e5e25047189133968bdc0895b3",
            "cd5e67a0322c4c85a69d3b62ef34fb81",
            "139a8dc1e4bc4071b089a05cfe7dc0fa",
            "3a8e988a35a44432956aa4cc09c3588f",
            "b95ddb2ec94c42b7b1e5247cfe443ac5",
            "2a463f76b03a418e9054901494f2d919",
            "05322307da37418a9ae45d126df721bf",
            "bd0e4948fb0243f0b296aee760cc595f",
            "53e631e3a3f8453aba49964ec243412d",
            "0c17333383984c7abc985572cb45b9f6",
            "0d5ec46b724f425bb591fc13aa6b37ff",
            "9fa4864e366e43a9b4f54f0ad994c433",
            "246f52f855d342a199711cd0da0eb44a",
            "0335aa36902f438ba2234b2f660f012e",
            "909849cb50524859834f9748ecd64f4d",
            "685672206cc547c9ab696b6a54559eac",
            "0606b6076e3d4efb8517b8c496bbc0a7",
            "172c6791cb824bf0863380ff81c6e1bb",
            "135e681bccd54190933bf3f77fadd2a8",
            "eafebb22d76b45e3829cf786c762e3c0",
            "56c683cc8d7b46b0bdcee5042707f242",
            "4f0c59e6c100499498300101da12c1c4",
            "dfbed62101e9482d8a4452e003b00904",
            "e35a340a29d94a94b931c404ca365a7b",
            "202e73d12fc64ce19837714f8fb044bd",
            "bedf627e870241bebe0950c3b41973db",
            "a5520b7a56884ffea72b9e7745984ebf",
            "42794996b9a64a09a80e4c64a8c82667",
            "3dfbdfde9fe5464b817c66aec77078d3",
            "d4f981fc10124b1fa1f9ad7edf11ea62",
            "32b895358f0c4b51a7a5777bf9fe07b9",
            "d9666fa5924642698e9ae46b4b43819c",
            "0874e3a4fdfb47d1a3ea065316f426d6",
            "df223ed663e84edb9110bdff326b52df",
            "7f3c29f6180b40c6b404f7fe753d6e75",
            "eabc4a87cdca4cea9a16253c2b2a9e90",
            "67e04b15af2747be922dbc6f8d26f87e"
          ]
        },
        "id": "O39R0KOF1Iw7",
        "outputId": "88d85351-9d8e-40b1-f66d-98da5b50af6c"
      },
      "outputs": [],
      "source": [
        "# load the IMDB review dataset. You can take the dataset from Huggingface\n",
        "imdb_dataset = load_dataset(\"imdb\")"
      ]
    },
    {
      "cell_type": "code",
      "execution_count": 6,
      "metadata": {
        "colab": {
          "base_uri": "https://localhost:8080/"
        },
        "id": "9a4eux6zDy7t",
        "outputId": "32ac9671-6e6f-4699-ee42-28a5510cb24f"
      },
      "outputs": [
        {
          "name": "stdout",
          "output_type": "stream",
          "text": [
            "DatasetDict({\n",
            "    train: Dataset({\n",
            "        features: ['text', 'label'],\n",
            "        num_rows: 25000\n",
            "    })\n",
            "    test: Dataset({\n",
            "        features: ['text', 'label'],\n",
            "        num_rows: 25000\n",
            "    })\n",
            "    unsupervised: Dataset({\n",
            "        features: ['text', 'label'],\n",
            "        num_rows: 50000\n",
            "    })\n",
            "})\n"
          ]
        }
      ],
      "source": [
        "# Split the train set into train and validation in 80-20 split. Use the labels\n",
        "# to ensure that the ratio of the samples from each label is maintained\n",
        "print(imdb_dataset)"
      ]
    },
    {
      "cell_type": "code",
      "execution_count": 7,
      "metadata": {
        "colab": {
          "base_uri": "https://localhost:8080/"
        },
        "id": "573oMQh0SW4g",
        "outputId": "47866fc4-e540-4d16-c05c-bd74e30f7a76"
      },
      "outputs": [
        {
          "name": "stdout",
          "output_type": "stream",
          "text": [
            "20000\n",
            "5000\n"
          ]
        }
      ],
      "source": [
        "#splitting the data based on the above structure of the dataset\n",
        "from sklearn.model_selection import train_test_split\n",
        "\n",
        "\n",
        "train_data = imdb_dataset['train']\n",
        "train_text = train_data['text']\n",
        "train_labels = train_data['label']\n",
        "\n",
        "train_texts, valid_texts, train_labels, valid_labels = train_test_split(train_text, train_labels, test_size=0.2, stratify=train_labels, random_state=42)\n",
        "#stratification means that the train_test_split method returns training and test subsets that have the same proportions of class labels as the input dataset\n",
        "#so using the stratify we can ensuer that the ratio of samples from each label is maintained properly\n",
        "print(len(train_texts))\n",
        "print(len(valid_texts))"
      ]
    },
    {
      "cell_type": "code",
      "execution_count": 8,
      "metadata": {
        "id": "eRiQFvWV7cqn"
      },
      "outputs": [],
      "source": [
        "test_texts = imdb_dataset['test']['text']\n",
        "test_labels = imdb_dataset['test']['label']"
      ]
    },
    {
      "cell_type": "code",
      "execution_count": 9,
      "metadata": {
        "id": "hJvJGlDo3rHa"
      },
      "outputs": [],
      "source": [
        "import re\n",
        "\n",
        "number_pattern = r'\\b(?:\\d+\\.\\d+|\\.\\d+|\\d+(?:[\\d+\\,]+)\\d+|\\d+)\\b'\n",
        "def number_tokenizer(text):\n",
        "      #number can be decimal integer or anyting soo i have used the d(digits) for the notation of the nubmer\n",
        "      l = re.compile(number_pattern).findall(text)\n",
        "      return l\n",
        "\n",
        "def replace_number(text):\n",
        "      numbers = number_tokenizer(text)\n",
        "      tokenized_text = text\n",
        "      for i in numbers:\n",
        "          tokenized_text = tokenized_text.replace(i , \"num\")\n",
        "\n",
        "      return(tokenized_text)\n",
        "def clean(text, tokenizer):\n",
        "  # Perform text preprocessing:\n",
        "  # 1. Removing numbers OR replace them with \"num\" token\n",
        "  # 2. Convert all characters to lowercase.\n",
        "  # 3. Tokenize the sentence into words\n",
        "  # You can use RegexpTokenizer from NLTK.\n",
        "  text = replace_number(text)\n",
        "\n",
        "  # Convert all characters to lowercase\n",
        "  text = text.lower()\n",
        "\n",
        "  # Tokenize the sentence into words\n",
        "  words = tokenizer.tokenize(text)\n",
        "\n",
        "  return ' '.join(words)\n",
        "  # You will experiment with stemming/lemmatization down the line\n",
        "  # so you can skip that for now"
      ]
    },
    {
      "cell_type": "code",
      "execution_count": 10,
      "metadata": {
        "id": "aB5nrRbnaUbt"
      },
      "outputs": [],
      "source": [
        "tokenizer = RegexpTokenizer(r'\\w+')\n",
        "\n",
        "clean_train_texts = [clean(text , tokenizer) for text in train_texts]\n",
        "clean_valid_texts = [clean(text, tokenizer) for text in valid_texts]\n"
      ]
    },
    {
      "cell_type": "code",
      "execution_count": 11,
      "metadata": {
        "id": "WEDLk2ZXUwVU"
      },
      "outputs": [],
      "source": [
        "# create a word to index dictionary so that each word in the training set\n",
        "# has a number associated with it. This allows to represent each sentence\n",
        "# as a series of numbers. Start the index with 1 instead of 0. The number\n",
        "# 0 will be used to denote padding, so that each sentence can have the\n",
        "# same length.\n",
        "# Keep track of the index since it will be used for representing new words\n",
        "# that were not part of the training vocabulary.\n",
        "# Also, make sure to not create dictionary on sentences with word count\n",
        "# not within the range\n",
        "\n",
        "def get_word2idx(corpus , maxlen , minlen):\n",
        "  idx = 1\n",
        "  word2idx = {}\n",
        "  #word2idx['pad'] = 0\n",
        "  for sentence in tqdm(corpus, total=len(corpus), desc=\"Creating word2idx\"):\n",
        "    # process sentence\n",
        "    sentence = clean(sentence, tokenizer)\n",
        "    words = sentence.split()\n",
        "\n",
        "    # drop sentences greater than maxlen or less than minlen\n",
        "    if(minlen<=len(words) and len(words)<=maxlen):\n",
        "      for word in words:\n",
        "        if word not in word2idx:\n",
        "          word2idx[word] = idx\n",
        "          idx += 1\n",
        "    # for each word in sentence, check for entry in word2idx\n",
        "\n",
        "  return idx, word2idx\n",
        "\n"
      ]
    },
    {
      "cell_type": "code",
      "execution_count": 12,
      "metadata": {
        "colab": {
          "base_uri": "https://localhost:8080/"
        },
        "id": "sZSRmSVFt9EA",
        "outputId": "e5c1f176-ad4a-45d9-fd89-d87d24791e3a"
      },
      "outputs": [
        {
          "name": "stdout",
          "output_type": "stream",
          "text": [
            "52 13704\n"
          ]
        }
      ],
      "source": [
        "minlen = min([len(sentence) for sentence in train_texts])\n",
        "maxlen = max([len(sentence) for sentence in train_texts])\n",
        "print(minlen , maxlen)"
      ]
    },
    {
      "cell_type": "code",
      "execution_count": 13,
      "metadata": {
        "colab": {
          "base_uri": "https://localhost:8080/"
        },
        "id": "EdiPu2sEvDw6",
        "outputId": "855ae1b6-37b3-4b5d-c391-a375d6314190"
      },
      "outputs": [
        {
          "name": "stderr",
          "output_type": "stream",
          "text": [
            "Creating word2idx:   2%|▏         | 431/20000 [00:00<00:04, 4309.98it/s]"
          ]
        },
        {
          "name": "stderr",
          "output_type": "stream",
          "text": [
            "Creating word2idx: 100%|██████████| 20000/20000 [00:04<00:00, 4839.05it/s]\n"
          ]
        }
      ],
      "source": [
        "idx, word2idx = get_word2idx(train_texts, 500, 100)"
      ]
    },
    {
      "cell_type": "code",
      "execution_count": 14,
      "metadata": {
        "colab": {
          "base_uri": "https://localhost:8080/"
        },
        "id": "5Mz6VOhsvOu3",
        "outputId": "41f1a790-8689-478c-9c51-df3217ece898"
      },
      "outputs": [
        {
          "name": "stdout",
          "output_type": "stream",
          "text": [
            "58775\n",
            "58776\n"
          ]
        }
      ],
      "source": [
        "print(len(word2idx))\n",
        "print(idx)"
      ]
    },
    {
      "cell_type": "code",
      "execution_count": 14,
      "metadata": {
        "id": "bGjvrcNZ6uzx"
      },
      "outputs": [],
      "source": [
        "# Build a Dataset object to store each sentence as a tensor of numbers\n",
        "# along with the label. Make sure to add padding so that the tensor\n",
        "# for each sentence is of the same length. This will allow us to train\n",
        "# the model in batches.\n",
        "tokenizer = RegexpTokenizer(r'\\w+')\n",
        "\n",
        "class IMDBDataset(Dataset):\n",
        "  def __init__(self, dataset,labels, word2idx, minlen : int = 100, maxlen : int = 500):\n",
        "    self.count = 0 # total sentences you finally pick\n",
        "\n",
        "    # count total number of lines\n",
        "    #len = len(dataset)\n",
        "\n",
        "    input_data = []\n",
        "    target_data = []\n",
        "    corpus = dataset\n",
        "\n",
        "    #for idx, sentence in tqdm(enumerate(corpus), total=len, desc=f\"Transforming input text [{split}]\"):\n",
        "    for sentence , label in tqdm(zip(dataset,labels),total=len(dataset), desc=f\"Transforming input text\"):\n",
        "      # process sentence\n",
        "      sentence = clean(sentence , tokenizer)\n",
        "      # drop sentences greater than maxlen or less than minlen\n",
        "      words = sentence.split()\n",
        "      if(len(words)<minlen or maxlen<len(words)):continue\n",
        "\n",
        "      # replace words with their index\n",
        "      indices= [word2idx.get(word, 0) for word in words]\n",
        "      #we can pad the sentence right here\n",
        "      padded_seq = [0]*(maxlen - len(indices))\n",
        "      padded_indices = indices[:maxlen] + padded_seq\n",
        "\n",
        "      #pad_sequence doesnt take in list so for the pad_sequence we need to convert the input list to tensor form then it will accept it\n",
        "      input_data.append(torch.tensor(indices))\n",
        "\n",
        "      target_data.append(label)\n",
        "\n",
        "      self.count += 1\n",
        "\n",
        "    # pad the sentences upto maxlen\n",
        "    self.inputs = pad_sequence(input_data, batch_first = True)\n",
        "    #self.inputs = torch.tensor(input_data)\n",
        "    self.targets = torch.tensor(target_data)\n",
        "\n",
        "  def __len__(self) -> int:\n",
        "    return self.count\n",
        "\n",
        "  def __getitem__(self, index : int):\n",
        "    return self.inputs[index], self.targets[index]"
      ]
    },
    {
      "cell_type": "code",
      "execution_count": 15,
      "metadata": {
        "colab": {
          "base_uri": "https://localhost:8080/"
        },
        "id": "CGQ-5qXKG0Ag",
        "outputId": "b219275b-45ad-4fcb-f1f2-a58bdfadbbf9"
      },
      "outputs": [
        {
          "name": "stderr",
          "output_type": "stream",
          "text": [
            "Transforming input text: 100%|██████████| 20000/20000 [00:05<00:00, 3557.40it/s]\n",
            "Transforming input text: 100%|██████████| 5000/5000 [00:01<00:00, 3664.21it/s]\n",
            "Transforming input text: 100%|██████████| 25000/25000 [00:06<00:00, 3890.61it/s]\n"
          ]
        }
      ],
      "source": [
        "# create the train dataset using the word2idx dictionary built using the train set\n",
        "train_ds = IMDBDataset(train_texts , train_labels , word2idx,minlen = 100, maxlen = 500)\n",
        "# create the validation and test dataset using the word2idx dictionary built using the train set\n",
        "val_ds = IMDBDataset(valid_texts , valid_labels , word2idx,minlen = 100, maxlen = 500)\n",
        "test_ds = IMDBDataset(test_texts , test_labels , word2idx,minlen = 100, maxlen = 500)"
      ]
    },
    {
      "cell_type": "code",
      "execution_count": 16,
      "metadata": {
        "colab": {
          "base_uri": "https://localhost:8080/"
        },
        "id": "sgVEZqCNfIcC",
        "outputId": "85115820-c9c1-4e53-e197-c5636dbaefda"
      },
      "outputs": [
        {
          "data": {
            "text/plain": [
              "(16059, 4008, 20078)"
            ]
          },
          "execution_count": 16,
          "metadata": {},
          "output_type": "execute_result"
        }
      ],
      "source": [
        "len(train_ds), len(val_ds), len(test_ds)"
      ]
    },
    {
      "cell_type": "code",
      "execution_count": 17,
      "metadata": {
        "id": "FFQcp_oLTtDi"
      },
      "outputs": [],
      "source": [
        "# create dataloaders using the dataset\n",
        "params = {\n",
        "    'batch_size':300,\n",
        "    'shuffle': True,\n",
        "\n",
        "}\n",
        "\n",
        "train_dataloader = DataLoader(train_ds, **params)\n",
        "val_dataloader = DataLoader(val_ds, **params)\n",
        "test_dataloader = DataLoader(test_ds, **params)"
      ]
    },
    {
      "cell_type": "code",
      "execution_count": 19,
      "metadata": {
        "id": "Fa5dHAINMB0b"
      },
      "outputs": [],
      "source": [
        "import torch.nn.functional as F\n",
        "\n",
        "\n",
        "class RNNModel(nn.Module):\n",
        "    def __init__(self, vocab_size, embedding_dim, hidden_size, num_layers, num_classes):\n",
        "        super(RNNModel, self).__init__()\n",
        "        self.rnn = nn.RNN(embedding_dim, hidden_size, num_layers=5, batch_first=True)\n",
        "        self.fc = nn.Linear(hidden_size, num_classes)\n",
        "\n",
        "    def forward(self, X):\n",
        "        embedded = self.embedding(X)\n",
        "        output, _ = self.rnn(embedded)\n",
        "        logits = self.fc(output[:, -1, :])  # Using only the last output from the model\n",
        "        return logits"
      ]
    },
    {
      "cell_type": "code",
      "execution_count": 20,
      "metadata": {
        "colab": {
          "base_uri": "https://localhost:8080/"
        },
        "id": "rndJltB9ZDlu",
        "outputId": "ddc1b3f0-82dc-466e-f96d-e3b83793d337"
      },
      "outputs": [
        {
          "name": "stdout",
          "output_type": "stream",
          "text": [
            "RNNModel(\n",
            "  (rnn): RNN(256, 128, num_layers=5, batch_first=True)\n",
            "  (fc): Linear(in_features=128, out_features=2, bias=True)\n",
            ")\n"
          ]
        }
      ],
      "source": [
        "# Hyperparameters\n",
        "hidden_size = 256\n",
        "embedding_dim = 128\n",
        "learning_rate = 1e-3\n",
        "epochs = 5\n",
        "num_classes = len(set(train_labels))\n",
        "vocab_size = len(word2idx)+1\n",
        "\n",
        "# create the model\n",
        "model = RNNModel(vocab_size, hidden_size, embedding_dim,3, num_classes).to(device)\n",
        "\n",
        "# create optimizer\n",
        "criterion = nn.CrossEntropyLoss()\n",
        "optimizer = optim.Adam(model.parameters(), lr=learning_rate)\n",
        "print(model)"
      ]
    },
    {
      "cell_type": "code",
      "execution_count": 18,
      "metadata": {
        "id": "9iakei6QOcyL"
      },
      "outputs": [],
      "source": [
        "def train_model(model, trainloader, valloader, learning_rate=1e-3, epochs=10):\n",
        "    device = torch.device(\"cuda\" if torch.cuda.is_available() else \"cpu\")\n",
        "    criterion = nn.CrossEntropyLoss()\n",
        "    optimizer = optim.Adam(model.parameters(), lr=learning_rate)\n",
        "\n",
        "    train_losses = []\n",
        "    val_losses = []\n",
        "    val_accuracy = []\n",
        "    best_val_loss = float('inf')\n",
        "\n",
        "    for epoch in range(epochs):\n",
        "        ## TRAINING STEP\n",
        "        model.train()\n",
        "        train_loss = 0.0\n",
        "        for input_batch, output_batch in tqdm(trainloader, total=len(trainloader), desc=\"Training\"):\n",
        "            input_batch, output_batch = input_batch.to(device), output_batch.to(device)\n",
        "\n",
        "            optimizer.zero_grad() #clearing the gradients\n",
        "            outputs = model(input_batch) #input to the model\n",
        "\n",
        "            # Calculate loss\n",
        "            loss = criterion(outputs, output_batch) #crosee entropy los\n",
        "\n",
        "            # Backward pass and optimization\n",
        "            loss.backward()\n",
        "            optimizer.step()\n",
        "\n",
        "            train_loss += loss.item()\n",
        "\n",
        "        train_loss /= len(trainloader)\n",
        "        train_losses.append(train_loss)\n",
        "\n",
        "        ## VALIDATION STEP\n",
        "        model.eval()\n",
        "        val_loss = 0.0\n",
        "        correct = 0\n",
        "        total = 0\n",
        "\n",
        "        with torch.no_grad():\n",
        "            for input_batch, output_batch in tqdm(valloader, total=len(valloader), desc=\"Validation\"):\n",
        "                input_batch, output_batch = input_batch.to(device), output_batch.to(device)\n",
        "\n",
        "                # Forward pass\n",
        "                outputs = model(input_batch)\n",
        "\n",
        "                # Calculate loss\n",
        "                loss = criterion(outputs, output_batch)\n",
        "                val_loss += loss.item()\n",
        "\n",
        "                # Calculate accuracy\n",
        "                _, predicted = torch.max(outputs, 1)\n",
        "                total += output_batch.size(0)\n",
        "                correct += (predicted == output_batch).sum().item()\n",
        "\n",
        "        val_loss /= len(valloader)\n",
        "        val_losses.append(val_loss)\n",
        "        accuracy = 100 * correct / total\n",
        "        val_accuracy.append(accuracy)\n",
        "\n",
        "        print(f\"Epoch {epoch + 1}/{epochs}: Train Loss: {train_loss:.4f}, Val Loss: {val_loss:.4f}, Val Accuracy: {accuracy:.2f}%\")\n",
        "\n",
        "        # Save the best model\n",
        "        if val_loss < best_val_loss:\n",
        "            best_val_loss = val_loss\n",
        "            best_model_state = model.state_dict()\n",
        "\n",
        "    model.load_state_dict(best_model_state)\n",
        "    return train_losses, val_losses, val_accuracy\n",
        "\n"
      ]
    },
    {
      "cell_type": "code",
      "execution_count": 36,
      "metadata": {},
      "outputs": [
        {
          "name": "stderr",
          "output_type": "stream",
          "text": [
            "Training: 100%|██████████| 54/54 [00:09<00:00,  5.75it/s]\n",
            "Validation: 100%|██████████| 14/14 [00:00<00:00, 15.51it/s]\n"
          ]
        },
        {
          "name": "stdout",
          "output_type": "stream",
          "text": [
            "Epoch 1/10: Train Loss: 0.6861, Val Loss: 0.7028, Val Accuracy: 51.32%\n"
          ]
        },
        {
          "name": "stderr",
          "output_type": "stream",
          "text": [
            "Training: 100%|██████████| 54/54 [00:09<00:00,  5.94it/s]\n",
            "Validation: 100%|██████████| 14/14 [00:00<00:00, 15.39it/s]\n"
          ]
        },
        {
          "name": "stdout",
          "output_type": "stream",
          "text": [
            "Epoch 2/10: Train Loss: 0.6865, Val Loss: 0.7062, Val Accuracy: 51.22%\n"
          ]
        },
        {
          "name": "stderr",
          "output_type": "stream",
          "text": [
            "Training: 100%|██████████| 54/54 [00:09<00:00,  5.85it/s]\n",
            "Validation: 100%|██████████| 14/14 [00:00<00:00, 14.38it/s]\n"
          ]
        },
        {
          "name": "stdout",
          "output_type": "stream",
          "text": [
            "Epoch 3/10: Train Loss: 0.6863, Val Loss: 0.7054, Val Accuracy: 48.35%\n"
          ]
        },
        {
          "name": "stderr",
          "output_type": "stream",
          "text": [
            "Training: 100%|██████████| 54/54 [00:09<00:00,  5.82it/s]\n",
            "Validation: 100%|██████████| 14/14 [00:00<00:00, 14.75it/s]\n"
          ]
        },
        {
          "name": "stdout",
          "output_type": "stream",
          "text": [
            "Epoch 4/10: Train Loss: 0.6862, Val Loss: 0.7026, Val Accuracy: 51.50%\n"
          ]
        },
        {
          "name": "stderr",
          "output_type": "stream",
          "text": [
            "Training: 100%|██████████| 54/54 [00:09<00:00,  5.77it/s]\n",
            "Validation: 100%|██████████| 14/14 [00:00<00:00, 14.14it/s]\n"
          ]
        },
        {
          "name": "stdout",
          "output_type": "stream",
          "text": [
            "Epoch 5/10: Train Loss: 0.6875, Val Loss: 0.7096, Val Accuracy: 51.37%\n"
          ]
        },
        {
          "name": "stderr",
          "output_type": "stream",
          "text": [
            "Training: 100%|██████████| 54/54 [00:09<00:00,  5.54it/s]\n",
            "Validation: 100%|██████████| 14/14 [00:00<00:00, 15.21it/s]\n"
          ]
        },
        {
          "name": "stdout",
          "output_type": "stream",
          "text": [
            "Epoch 6/10: Train Loss: 0.6878, Val Loss: 0.7041, Val Accuracy: 50.92%\n"
          ]
        },
        {
          "name": "stderr",
          "output_type": "stream",
          "text": [
            "Training: 100%|██████████| 54/54 [00:09<00:00,  5.80it/s]\n",
            "Validation: 100%|██████████| 14/14 [00:00<00:00, 14.95it/s]\n"
          ]
        },
        {
          "name": "stdout",
          "output_type": "stream",
          "text": [
            "Epoch 7/10: Train Loss: 0.6888, Val Loss: 0.7009, Val Accuracy: 48.38%\n"
          ]
        },
        {
          "name": "stderr",
          "output_type": "stream",
          "text": [
            "Training: 100%|██████████| 54/54 [00:09<00:00,  5.82it/s]\n",
            "Validation: 100%|██████████| 14/14 [00:00<00:00, 14.29it/s]\n"
          ]
        },
        {
          "name": "stdout",
          "output_type": "stream",
          "text": [
            "Epoch 8/10: Train Loss: 0.6919, Val Loss: 0.7081, Val Accuracy: 48.35%\n"
          ]
        },
        {
          "name": "stderr",
          "output_type": "stream",
          "text": [
            "Training: 100%|██████████| 54/54 [00:09<00:00,  5.74it/s]\n",
            "Validation: 100%|██████████| 14/14 [00:00<00:00, 15.51it/s]\n"
          ]
        },
        {
          "name": "stdout",
          "output_type": "stream",
          "text": [
            "Epoch 9/10: Train Loss: 0.6944, Val Loss: 0.6933, Val Accuracy: 51.47%\n"
          ]
        },
        {
          "name": "stderr",
          "output_type": "stream",
          "text": [
            "Training: 100%|██████████| 54/54 [00:08<00:00,  6.00it/s]\n",
            "Validation: 100%|██████████| 14/14 [00:00<00:00, 15.27it/s]"
          ]
        },
        {
          "name": "stdout",
          "output_type": "stream",
          "text": [
            "Epoch 10/10: Train Loss: 0.6942, Val Loss: 0.6927, Val Accuracy: 51.55%\n"
          ]
        },
        {
          "name": "stderr",
          "output_type": "stream",
          "text": [
            "\n"
          ]
        }
      ],
      "source": [
        "train_losses, val_losses, val_accuracy = train_model(model, train_dataloader, val_dataloader)"
      ]
    },
    {
      "cell_type": "code",
      "execution_count": 24,
      "metadata": {},
      "outputs": [
        {
          "name": "stdout",
          "output_type": "stream",
          "text": [
            "[0.6977404985162947, 0.6943264736069573, 0.6929634831569813, 0.6935779982142978, 0.691804952091641, 0.6945093671480814, 0.6920108916582884, 0.6957535059363754, 0.6960211528672112, 0.6947653150116956]\n",
            "[0.6933844430106026, 0.6950912049838475, 0.693165408713477, 0.6934919783047268, 0.6940241881779262, 0.6929179131984711, 0.6957318655082158, 0.6963557132652828, 0.6937478865895953, 0.6933844302381788]\n",
            "[51.57185628742515, 51.54690618762475, 51.59680638722555, 51.49700598802395, 51.44710578842315, 51.57185628742515, 48.47804391217565, 48.42814371257485, 51.54690618762475, 51.57185628742515]\n"
          ]
        }
      ],
      "source": [
        "print(train_losses)\n",
        "print(val_losses)\n",
        "print(val_accuracy)"
      ]
    },
    {
      "cell_type": "code",
      "execution_count": 31,
      "metadata": {
        "colab": {
          "base_uri": "https://localhost:8080/"
        },
        "id": "cSiAyfTir5zy",
        "outputId": "91b4bcbc-8cdb-407a-c238-b6709cf192c3"
      },
      "outputs": [
        {
          "name": "stderr",
          "output_type": "stream",
          "text": [
            "  0%|          | 0/67 [00:00<?, ?it/s]"
          ]
        },
        {
          "name": "stderr",
          "output_type": "stream",
          "text": [
            "100%|██████████| 67/67 [00:04<00:00, 14.32it/s]"
          ]
        },
        {
          "name": "stdout",
          "output_type": "stream",
          "text": [
            "Test Accuracy: 50.94%\n"
          ]
        },
        {
          "name": "stderr",
          "output_type": "stream",
          "text": [
            "\n"
          ]
        }
      ],
      "source": [
        "def test(model, test_loader):\n",
        "    model.eval()\n",
        "    correct = 0\n",
        "    total = 0\n",
        "\n",
        "    with torch.no_grad():\n",
        "        for input_batch, output_batch in tqdm(test_loader):\n",
        "            input_batch, output_batch = input_batch.to(device), output_batch.to(device)\n",
        "            #get outputs from the trained model\n",
        "            pred_outputs = model(input_batch)\n",
        "            _, predicted = torch.max(pred_outputs, dim=1)  # Get predicted class labels\n",
        "            total += output_batch.size(0)\n",
        "            correct += (predicted == output_batch).sum().item()\n",
        "\n",
        "    accuracy = 100 * (correct / total)\n",
        "    print(f\"Test Accuracy: {accuracy:.2f}%\")\n",
        "    return accuracy\n",
        "\n",
        "accuracy = test(model, test_dataloader)\n"
      ]
    },
    {
      "cell_type": "code",
      "execution_count": null,
      "metadata": {
        "colab": {
          "base_uri": "https://localhost:8080/",
          "height": 487
        },
        "id": "s7MRQCJTooPK",
        "outputId": "b5e2fef8-dcbc-4c7b-e680-dae96f467d30"
      },
      "outputs": [
        {
          "data": {
            "image/png": "[encoded data removed]",
            "text/plain": [
              "<Figure size 1000x500 with 1 Axes>"
            ]
          },
          "metadata": {},
          "output_type": "display_data"
        }
      ],
      "source": [
        "# plot training and validation losses\n",
        "plt.figure(figsize=(10, 5))\n",
        "plt.plot(train_losses, label='Training Loss')\n",
        "plt.plot(val_losses, label='Validation Loss')\n",
        "plt.xlabel('Epochs')\n",
        "plt.ylabel('Loss')\n",
        "plt.title('Training and Validation Losses')\n",
        "plt.legend()\n",
        "plt.show()"
      ]
    },
    {
      "cell_type": "code",
      "execution_count": 32,
      "metadata": {},
      "outputs": [
        {
          "data": {
            "image/png": "[encoded data removed]",
            "text/plain": [
              "<Figure size 720x360 with 1 Axes>"
            ]
          },
          "metadata": {
            "needs_background": "light"
          },
          "output_type": "display_data"
        }
      ],
      "source": [
        "# plot validation accuracy\n",
        "plt.figure(figsize=(10, 5))\n",
        "plt.plot(val_accuracy, label='Validation Accuracy')\n",
        "plt.xlabel('Epochs')\n",
        "plt.ylabel('Accuracy')\n",
        "plt.title('Validation Accuracy')\n",
        "plt.legend()\n",
        "plt.show()"
      ]
    },
    {
      "cell_type": "code",
      "execution_count": null,
      "metadata": {
        "id": "gUjgUQhtoyQ0"
      },
      "outputs": [],
      "source": []
    },
    {
      "cell_type": "markdown",
      "metadata": {
        "id": "tHmA54UjvRh6"
      },
      "source": [
        "#### 1.2 Incorporate stemming/lemmatization when doing text preprocessing using the NLTK library. What changes do you observe in accuracy ?"
      ]
    },
    {
      "cell_type": "code",
      "execution_count": 33,
      "metadata": {
        "colab": {
          "base_uri": "https://localhost:8080/"
        },
        "id": "MMW-AMrYvRxO",
        "outputId": "0e5598a9-56c0-4b4d-991b-770519c989dd"
      },
      "outputs": [
        {
          "name": "stderr",
          "output_type": "stream",
          "text": [
            "Transforming input text:   0%|          | 0/20000 [00:00<?, ?it/s]"
          ]
        },
        {
          "name": "stderr",
          "output_type": "stream",
          "text": [
            "Transforming input text: 100%|██████████| 20000/20000 [01:02<00:00, 318.66it/s]\n",
            "Transforming input text: 100%|██████████| 5000/5000 [00:15<00:00, 315.69it/s]\n",
            "Transforming input text: 100%|██████████| 25000/25000 [01:23<00:00, 299.39it/s]\n"
          ]
        }
      ],
      "source": [
        "import re\n",
        "from nltk.stem import PorterStemmer, WordNetLemmatizer\n",
        "\n",
        "number_pattern = r'\\b(?:\\d+\\.\\d+|\\.\\d+|\\d+(?:[\\d+\\,]+)\\d+|\\d+)\\b'\n",
        "def number_tokenizer(text):\n",
        "      #number can be decimal integer or anyting soo i have used the d(digits) for the notation of the nubmer\n",
        "      l = re.compile(number_pattern).findall(text)\n",
        "      return l\n",
        "\n",
        "def replace_number(text):\n",
        "      numbers = number_tokenizer(text)\n",
        "      tokenized_text = text\n",
        "      for i in numbers:\n",
        "          tokenized_text = tokenized_text.replace(i , \"num\")\n",
        "\n",
        "      return(tokenized_text)\n",
        "def clean(text, tokenizer):\n",
        "  # Perform text preprocessing:\n",
        "  # 1. Removing numbers OR replace them with \"num\" token\n",
        "  # 2. Convert all characters to lowercase.\n",
        "  # 3. Tokenize the sentence into words\n",
        "  # You can use RegexpTokenizer from NLTK.\n",
        "  text = replace_number(text)\n",
        "\n",
        "  # Convert all characters to lowercase\n",
        "  text = text.lower()\n",
        "\n",
        "  # Tokenize the sentence into words\n",
        "  words = tokenizer.tokenize(text)\n",
        "\n",
        "  #stemming\n",
        "  stemmer = PorterStemmer()\n",
        "  stemmed_words = [stemmer.stem(word) for word in words]\n",
        "  return ' '.join(stemmed_words)\n",
        "\n",
        "tokenizer = RegexpTokenizer(r'\\w+')\n",
        "\n",
        "# create the train dataset using the word2idx dictionary built using the train set\n",
        "train_ds = IMDBDataset(train_texts , train_labels , word2idx,minlen = 100, maxlen = 500)\n",
        "# create the validation and test dataset using the word2idx dictionary built using the train set\n",
        "val_ds = IMDBDataset(valid_texts , valid_labels , word2idx,minlen = 100, maxlen = 500)\n",
        "test_ds = IMDBDataset(test_texts , test_labels , word2idx,minlen = 100, maxlen = 500)\n"
      ]
    },
    {
      "cell_type": "code",
      "execution_count": 34,
      "metadata": {
        "id": "i0Hpf8Afs6Qn"
      },
      "outputs": [],
      "source": [
        "# create dataloaders using the dataset\n",
        "params = {\n",
        "    'batch_size':300,\n",
        "    'shuffle': True,\n",
        "}\n",
        "\n",
        "train_dataloader = DataLoader(train_ds, **params)\n",
        "val_dataloader = DataLoader(val_ds, **params)\n",
        "test_dataloader = DataLoader(test_ds, **params)\n",
        "\n",
        "hidden_size = 256\n",
        "embedding_dim = 128\n",
        "learning_rate = 1e-3\n",
        "epochs = 5\n",
        "num_classes = len(set(train_labels))\n",
        "vocab_size = len(word2idx)+1\n",
        "\n",
        "# create the model\n",
        "model1 = RNNModel(vocab_size, hidden_size, embedding_dim,3, num_classes).to(device)\n"
      ]
    },
    {
      "cell_type": "code",
      "execution_count": 35,
      "metadata": {
        "colab": {
          "base_uri": "https://localhost:8080/"
        },
        "id": "tVYj-BqstXjg",
        "outputId": "05123d80-22e9-4f26-f9b6-88c23953aceb"
      },
      "outputs": [
        {
          "name": "stderr",
          "output_type": "stream",
          "text": [
            "Training: 100%|██████████| 54/54 [00:07<00:00,  6.97it/s]\n",
            "Validation: 100%|██████████| 14/14 [00:00<00:00, 18.05it/s]\n"
          ]
        },
        {
          "name": "stdout",
          "output_type": "stream",
          "text": [
            "Epoch 1/10: Train Loss: 0.6972, Val Loss: 0.6927, Val Accuracy: 51.62%\n"
          ]
        },
        {
          "name": "stderr",
          "output_type": "stream",
          "text": [
            "Training: 100%|██████████| 54/54 [00:07<00:00,  6.85it/s]\n",
            "Validation: 100%|██████████| 14/14 [00:00<00:00, 16.13it/s]\n"
          ]
        },
        {
          "name": "stdout",
          "output_type": "stream",
          "text": [
            "Epoch 2/10: Train Loss: 0.6931, Val Loss: 0.6923, Val Accuracy: 51.62%\n"
          ]
        },
        {
          "name": "stderr",
          "output_type": "stream",
          "text": [
            "Training: 100%|██████████| 54/54 [00:09<00:00,  5.97it/s]\n",
            "Validation: 100%|██████████| 14/14 [00:00<00:00, 15.58it/s]\n"
          ]
        },
        {
          "name": "stdout",
          "output_type": "stream",
          "text": [
            "Epoch 3/10: Train Loss: 0.6930, Val Loss: 0.7020, Val Accuracy: 48.30%\n"
          ]
        },
        {
          "name": "stderr",
          "output_type": "stream",
          "text": [
            "Training: 100%|██████████| 54/54 [00:08<00:00,  6.04it/s]\n",
            "Validation: 100%|██████████| 14/14 [00:00<00:00, 15.42it/s]\n"
          ]
        },
        {
          "name": "stdout",
          "output_type": "stream",
          "text": [
            "Epoch 4/10: Train Loss: 0.6918, Val Loss: 0.6981, Val Accuracy: 48.33%\n"
          ]
        },
        {
          "name": "stderr",
          "output_type": "stream",
          "text": [
            "Training: 100%|██████████| 54/54 [00:08<00:00,  6.10it/s]\n",
            "Validation: 100%|██████████| 14/14 [00:00<00:00, 15.51it/s]\n"
          ]
        },
        {
          "name": "stdout",
          "output_type": "stream",
          "text": [
            "Epoch 5/10: Train Loss: 0.6902, Val Loss: 0.6975, Val Accuracy: 51.62%\n"
          ]
        },
        {
          "name": "stderr",
          "output_type": "stream",
          "text": [
            "Training: 100%|██████████| 54/54 [00:08<00:00,  6.01it/s]\n",
            "Validation: 100%|██████████| 14/14 [00:00<00:00, 15.63it/s]\n"
          ]
        },
        {
          "name": "stdout",
          "output_type": "stream",
          "text": [
            "Epoch 6/10: Train Loss: 0.6900, Val Loss: 0.6975, Val Accuracy: 51.62%\n"
          ]
        },
        {
          "name": "stderr",
          "output_type": "stream",
          "text": [
            "Training: 100%|██████████| 54/54 [00:08<00:00,  6.10it/s]\n",
            "Validation: 100%|██████████| 14/14 [00:00<00:00, 15.88it/s]\n"
          ]
        },
        {
          "name": "stdout",
          "output_type": "stream",
          "text": [
            "Epoch 7/10: Train Loss: 0.6897, Val Loss: 0.7019, Val Accuracy: 51.47%\n"
          ]
        },
        {
          "name": "stderr",
          "output_type": "stream",
          "text": [
            "Training: 100%|██████████| 54/54 [00:09<00:00,  5.90it/s]\n",
            "Validation: 100%|██████████| 14/14 [00:00<00:00, 14.93it/s]\n"
          ]
        },
        {
          "name": "stdout",
          "output_type": "stream",
          "text": [
            "Epoch 8/10: Train Loss: 0.6976, Val Loss: 0.6936, Val Accuracy: 48.48%\n"
          ]
        },
        {
          "name": "stderr",
          "output_type": "stream",
          "text": [
            "Training: 100%|██████████| 54/54 [00:09<00:00,  5.81it/s]\n",
            "Validation: 100%|██████████| 14/14 [00:00<00:00, 14.61it/s]\n"
          ]
        },
        {
          "name": "stdout",
          "output_type": "stream",
          "text": [
            "Epoch 9/10: Train Loss: 0.6928, Val Loss: 0.6938, Val Accuracy: 51.45%\n"
          ]
        },
        {
          "name": "stderr",
          "output_type": "stream",
          "text": [
            "Training: 100%|██████████| 54/54 [00:09<00:00,  5.77it/s]\n",
            "Validation: 100%|██████████| 14/14 [00:00<00:00, 14.88it/s]"
          ]
        },
        {
          "name": "stdout",
          "output_type": "stream",
          "text": [
            "Epoch 10/10: Train Loss: 0.6908, Val Loss: 0.6967, Val Accuracy: 51.50%\n"
          ]
        },
        {
          "name": "stderr",
          "output_type": "stream",
          "text": [
            "\n"
          ]
        }
      ],
      "source": [
        "train_losses, val_losses, val_accuracy = train_model(model1, train_dataloader, val_dataloader)"
      ]
    },
    {
      "cell_type": "code",
      "execution_count": 37,
      "metadata": {},
      "outputs": [
        {
          "name": "stderr",
          "output_type": "stream",
          "text": [
            "100%|██████████| 67/67 [00:04<00:00, 14.20it/s]"
          ]
        },
        {
          "name": "stdout",
          "output_type": "stream",
          "text": [
            "Test Accuracy: 50.91%\n"
          ]
        },
        {
          "name": "stderr",
          "output_type": "stream",
          "text": [
            "\n"
          ]
        }
      ],
      "source": [
        "def test(model, test_loader):\n",
        "    model.eval()\n",
        "    correct = 0\n",
        "    total = 0\n",
        "\n",
        "    with torch.no_grad():\n",
        "        for input_batch, output_batch in tqdm(test_loader):\n",
        "            input_batch, output_batch = input_batch.to(device), output_batch.to(device)\n",
        "            #get outputs from the trained model\n",
        "            pred_outputs = model(input_batch)\n",
        "            _, predicted = torch.max(pred_outputs, dim=1)  # Get predicted class labels\n",
        "            total += output_batch.size(0)\n",
        "            correct += (predicted == output_batch).sum().item()\n",
        "\n",
        "    accuracy = 100 * (correct / total)\n",
        "    print(f\"Test Accuracy: {accuracy:.2f}%\")\n",
        "    return accuracy\n",
        "\n",
        "accuracy = test(model1, test_dataloader)"
      ]
    },
    {
      "cell_type": "markdown",
      "metadata": {
        "id": "23hqq3w8o2q3"
      },
      "source": [
        "#### 1.3 In the Model class, experiment with only picking the last output and mean of all outputs in the RNN layer. What changes do you observe ?\n",
        "\n",
        "- For this the default model takes the last output as the actual output and the model is designed in that way now , which small changes instead of taking the last output i have taken the mean of all the outputs and incorporated the model\n",
        "- Here in the forward function, After obtaining the output from the RNN layer instead of considering output[:, -1, :] which resembles the last output replace it with the mean of the outputs that is torch.mean(output, dim=1) we get the mean of all the outputs\n",
        "- This mean of the outputs is used in the model for the prediction outputs\n"
      ]
    },
    {
      "cell_type": "code",
      "execution_count": 19,
      "metadata": {
        "id": "-oUlRgmZAm-S"
      },
      "outputs": [
        {
          "name": "stdout",
          "output_type": "stream",
          "text": [
            "RNN_Mean_Model(\n",
            "  (embedding): Embedding(58776, 256)\n",
            "  (rnn): RNN(256, 128, num_layers=5, batch_first=True)\n",
            "  (fc): Linear(in_features=128, out_features=2, bias=True)\n",
            ")\n"
          ]
        }
      ],
      "source": [
        "import torch.nn.functional as F\n",
        "\n",
        "\n",
        "class RNN_Mean_Model(nn.Module):\n",
        "    def __init__(self, vocab_size, embedding_dim, hidden_size, num_layers, num_classes):\n",
        "        super(RNN_Mean_Model, self).__init__()\n",
        "        self.embedding = nn.Embedding(vocab_size, embedding_dim)\n",
        "        self.rnn = nn.RNN(embedding_dim, hidden_size, num_layers=5, batch_first=True)\n",
        "        self.fc = nn.Linear(hidden_size, num_classes)\n",
        "\n",
        "    def forward(self, X):\n",
        "        embedded = self.embedding(X)\n",
        "        output, _ = self.rnn(embedded)\n",
        "        #instead of using the last ouput i use the mean of the outputs\n",
        "        mean_output = torch.mean(output, dim=1)\n",
        "        logits = self.fc(mean_output) \n",
        "        return logits\n",
        "    \n",
        "\n",
        "\n",
        "hidden_size = 256\n",
        "embedding_dim = 128\n",
        "learning_rate = 1e-3\n",
        "epochs = 5\n",
        "num_classes = len(set(train_labels))\n",
        "vocab_size = len(word2idx)+1\n",
        "\n",
        "# create the model\n",
        "mean_model = RNN_Mean_Model(vocab_size, hidden_size, embedding_dim,3, num_classes).to(device)\n",
        "\n",
        "# create optimizer\n",
        "criterion = nn.CrossEntropyLoss()\n",
        "optimizer = optim.Adam(mean_model.parameters(), lr=learning_rate)\n",
        "print(mean_model)"
      ]
    },
    {
      "cell_type": "code",
      "execution_count": 30,
      "metadata": {},
      "outputs": [
        {
          "name": "stderr",
          "output_type": "stream",
          "text": [
            "Training: 100%|██████████| 54/54 [00:38<00:00,  1.42it/s]\n",
            "Validation: 100%|██████████| 14/14 [00:02<00:00,  5.97it/s]\n"
          ]
        },
        {
          "name": "stdout",
          "output_type": "stream",
          "text": [
            "Epoch 1/10: Train Loss: 0.6724, Val Loss: 0.6875, Val Accuracy: 53.79%\n"
          ]
        },
        {
          "name": "stderr",
          "output_type": "stream",
          "text": [
            "Training: 100%|██████████| 54/54 [00:25<00:00,  2.08it/s]\n",
            "Validation: 100%|██████████| 14/14 [00:02<00:00,  5.71it/s]\n"
          ]
        },
        {
          "name": "stdout",
          "output_type": "stream",
          "text": [
            "Epoch 2/10: Train Loss: 0.6894, Val Loss: 0.6903, Val Accuracy: 51.55%\n"
          ]
        },
        {
          "name": "stderr",
          "output_type": "stream",
          "text": [
            "Training: 100%|██████████| 54/54 [00:27<00:00,  1.96it/s]\n",
            "Validation: 100%|██████████| 14/14 [00:02<00:00,  5.55it/s]\n"
          ]
        },
        {
          "name": "stdout",
          "output_type": "stream",
          "text": [
            "Epoch 3/10: Train Loss: 0.6857, Val Loss: 0.6758, Val Accuracy: 60.08%\n"
          ]
        },
        {
          "name": "stderr",
          "output_type": "stream",
          "text": [
            "Training: 100%|██████████| 54/54 [00:27<00:00,  1.93it/s]\n",
            "Validation: 100%|██████████| 14/14 [00:02<00:00,  5.51it/s]\n"
          ]
        },
        {
          "name": "stdout",
          "output_type": "stream",
          "text": [
            "Epoch 4/10: Train Loss: 0.6258, Val Loss: 0.5907, Val Accuracy: 70.01%\n"
          ]
        },
        {
          "name": "stderr",
          "output_type": "stream",
          "text": [
            "Training: 100%|██████████| 54/54 [00:27<00:00,  1.94it/s]\n",
            "Validation: 100%|██████████| 14/14 [00:02<00:00,  5.60it/s]\n"
          ]
        },
        {
          "name": "stdout",
          "output_type": "stream",
          "text": [
            "Epoch 5/10: Train Loss: 0.6980, Val Loss: 0.7883, Val Accuracy: 47.83%\n"
          ]
        },
        {
          "name": "stderr",
          "output_type": "stream",
          "text": [
            "Training: 100%|██████████| 54/54 [00:28<00:00,  1.92it/s]\n",
            "Validation: 100%|██████████| 14/14 [00:02<00:00,  5.56it/s]\n"
          ]
        },
        {
          "name": "stdout",
          "output_type": "stream",
          "text": [
            "Epoch 6/10: Train Loss: 0.7162, Val Loss: 0.6870, Val Accuracy: 54.07%\n"
          ]
        },
        {
          "name": "stderr",
          "output_type": "stream",
          "text": [
            "Training: 100%|██████████| 54/54 [00:14<00:00,  3.74it/s]\n",
            "Validation: 100%|██████████| 14/14 [00:00<00:00, 16.14it/s]\n"
          ]
        },
        {
          "name": "stdout",
          "output_type": "stream",
          "text": [
            "Epoch 7/10: Train Loss: 0.6895, Val Loss: 0.6595, Val Accuracy: 60.55%\n"
          ]
        },
        {
          "name": "stderr",
          "output_type": "stream",
          "text": [
            "Training: 100%|██████████| 54/54 [00:08<00:00,  6.36it/s]\n",
            "Validation: 100%|██████████| 14/14 [00:00<00:00, 16.19it/s]\n"
          ]
        },
        {
          "name": "stdout",
          "output_type": "stream",
          "text": [
            "Epoch 8/10: Train Loss: 0.6538, Val Loss: 0.7099, Val Accuracy: 47.88%\n"
          ]
        },
        {
          "name": "stderr",
          "output_type": "stream",
          "text": [
            "Training: 100%|██████████| 54/54 [00:08<00:00,  6.39it/s]\n",
            "Validation: 100%|██████████| 14/14 [00:00<00:00, 16.10it/s]\n"
          ]
        },
        {
          "name": "stdout",
          "output_type": "stream",
          "text": [
            "Epoch 9/10: Train Loss: 0.6882, Val Loss: 0.6852, Val Accuracy: 57.46%\n"
          ]
        },
        {
          "name": "stderr",
          "output_type": "stream",
          "text": [
            "Training: 100%|██████████| 54/54 [00:08<00:00,  6.37it/s]\n",
            "Validation: 100%|██████████| 14/14 [00:00<00:00, 16.03it/s]\n"
          ]
        },
        {
          "name": "stdout",
          "output_type": "stream",
          "text": [
            "Epoch 10/10: Train Loss: 0.6766, Val Loss: 0.6732, Val Accuracy: 55.31%\n"
          ]
        },
        {
          "name": "stderr",
          "output_type": "stream",
          "text": [
            "100%|██████████| 67/67 [00:04<00:00, 15.62it/s]"
          ]
        },
        {
          "name": "stdout",
          "output_type": "stream",
          "text": [
            "Test Accuracy: 53.80%\n"
          ]
        },
        {
          "name": "stderr",
          "output_type": "stream",
          "text": [
            "\n"
          ]
        }
      ],
      "source": [
        "train_losses, val_losses, val_accuracy = train_model(mean_model, train_dataloader, val_dataloader)\n",
        "def test(model, test_loader):\n",
        "    model.eval()\n",
        "    correct = 0\n",
        "    total = 0\n",
        "\n",
        "    with torch.no_grad():\n",
        "        for input_batch, output_batch in tqdm(test_loader):\n",
        "            input_batch, output_batch = input_batch.to(device), output_batch.to(device)\n",
        "            #get outputs from the trained model\n",
        "            pred_outputs = model(input_batch)\n",
        "            _, predicted = torch.max(pred_outputs, dim=1)  # Get predicted class labels\n",
        "            total += output_batch.size(0)\n",
        "            correct += (predicted == output_batch).sum().item()\n",
        "\n",
        "    accuracy = 100 * (correct / total)\n",
        "    print(f\"Test Accuracy: {accuracy:.2f}%\")\n",
        "    return accuracy\n",
        "\n",
        "accuracy = test(mean_model, test_dataloader)"
      ]
    },
    {
      "cell_type": "markdown",
      "metadata": {
        "id": "dw2dyrnkrnxa"
      },
      "source": [
        "### 2. Hyperparameter Tuning\n",
        "#### 2.1 Starting with the best configurations based on the above experiments, experiment with 5 different hyperparameter configurations. You can change the size of embedding layer, hidden state, batch in the dataloader.\n"
      ]
    },
    {
      "cell_type": "code",
      "execution_count": 20,
      "metadata": {},
      "outputs": [],
      "source": [
        "def train_model(model, trainloader, valloader, learning_rate=1e-3, epochs=5):\n",
        "    device = torch.device(\"cuda\" if torch.cuda.is_available() else \"cpu\")\n",
        "    criterion = nn.CrossEntropyLoss()\n",
        "    optimizer = optim.Adam(model.parameters(), lr=learning_rate)\n",
        "\n",
        "    train_losses = []\n",
        "    val_losses = []\n",
        "    val_accuracy = []\n",
        "    best_val_loss = float('inf')\n",
        "\n",
        "    for epoch in range(epochs):\n",
        "        ## TRAINING STEP\n",
        "        model.train()\n",
        "        train_loss = 0.0\n",
        "        for input_batch, output_batch in tqdm(trainloader, total=len(trainloader), desc=\"Training\"):\n",
        "            input_batch, output_batch = input_batch.to(device), output_batch.to(device)\n",
        "\n",
        "            # Forward pass\n",
        "            optimizer.zero_grad()\n",
        "            outputs = model(input_batch)\n",
        "\n",
        "            # Calculate loss\n",
        "            loss = criterion(outputs, output_batch)\n",
        "\n",
        "            # Backward pass and optimization\n",
        "            loss.backward()\n",
        "            optimizer.step()\n",
        "\n",
        "            train_loss += loss.item()\n",
        "\n",
        "        train_loss /= len(trainloader)\n",
        "        train_losses.append(train_loss)\n",
        "\n",
        "        ## VALIDATION STEP\n",
        "        model.eval()\n",
        "        val_loss = 0.0\n",
        "        correct = 0\n",
        "        total = 0\n",
        "\n",
        "        with torch.no_grad():\n",
        "            for input_batch, output_batch in tqdm(valloader, total=len(valloader), desc=\"Validation\"):\n",
        "                input_batch, output_batch = input_batch.to(device), output_batch.to(device)\n",
        "\n",
        "                # Forward pass\n",
        "                outputs = model(input_batch)\n",
        "\n",
        "                # Calculate loss\n",
        "                loss = criterion(outputs, output_batch)\n",
        "                val_loss += loss.item()\n",
        "\n",
        "                # Calculate accuracy\n",
        "                _, predicted = torch.max(outputs, 1)\n",
        "                total += output_batch.size(0)\n",
        "                correct += (predicted == output_batch).sum().item()\n",
        "\n",
        "        val_loss /= len(valloader)\n",
        "        val_losses.append(val_loss)\n",
        "        accuracy = 100 * correct / total\n",
        "        val_accuracy.append(accuracy)\n",
        "\n",
        "        print(f\"Epoch {epoch + 1}/{epochs}: Train Loss: {train_loss:.4f}, Val Loss: {val_loss:.4f} , Val Accuracy: {accuracy:.2f}%\")\n",
        "\n",
        "        # Save the best model\n",
        "        if val_loss < best_val_loss:\n",
        "            best_val_loss = val_loss\n",
        "            best_model_state = model.state_dict()\n",
        "\n",
        "    model.load_state_dict(best_model_state)\n",
        "    return train_losses, val_losses, val_accuracy\n",
        "\n",
        "def test(model, test_loader):\n",
        "    model.eval()\n",
        "    correct = 0\n",
        "    total = 0\n",
        "\n",
        "    with torch.no_grad():\n",
        "        for input_batch, output_batch in tqdm(test_loader):\n",
        "            input_batch, output_batch = input_batch.to(device), output_batch.to(device)\n",
        "            #get outputs from the trained model\n",
        "            pred_outputs = model(input_batch)\n",
        "            _, predicted = torch.max(pred_outputs, dim=1)  # Get predicted class labels\n",
        "            total += output_batch.size(0)\n",
        "            correct += (predicted == output_batch).sum().item()\n",
        "\n",
        "    accuracy = 100 * (correct / total)\n",
        "    print(f\"Test Accuracy: {accuracy:.2f}%\")\n",
        "    return accuracy"
      ]
    },
    {
      "cell_type": "code",
      "execution_count": 22,
      "metadata": {
        "colab": {
          "base_uri": "https://localhost:8080/"
        },
        "id": "M0EuYk3Krodp",
        "outputId": "5db90822-7a8d-4eba-cecf-155df4967f21"
      },
      "outputs": [
        {
          "name": "stderr",
          "output_type": "stream",
          "text": [
            "Training: 100%|██████████| 54/54 [00:06<00:00,  8.06it/s]\n",
            "Validation: 100%|██████████| 14/14 [00:00<00:00, 17.21it/s]\n"
          ]
        },
        {
          "name": "stdout",
          "output_type": "stream",
          "text": [
            "Epoch 1/5: Train Loss: 0.6953, Val Loss: 0.6921 , Val Accuracy: 53.34%\n"
          ]
        },
        {
          "name": "stderr",
          "output_type": "stream",
          "text": [
            "Training: 100%|██████████| 54/54 [00:07<00:00,  7.63it/s]\n",
            "Validation: 100%|██████████| 14/14 [00:00<00:00, 19.48it/s]\n"
          ]
        },
        {
          "name": "stdout",
          "output_type": "stream",
          "text": [
            "Epoch 2/5: Train Loss: 0.6425, Val Loss: 0.5844 , Val Accuracy: 70.76%\n"
          ]
        },
        {
          "name": "stderr",
          "output_type": "stream",
          "text": [
            "Training: 100%|██████████| 54/54 [00:06<00:00,  7.75it/s]\n",
            "Validation: 100%|██████████| 14/14 [00:00<00:00, 19.44it/s]\n"
          ]
        },
        {
          "name": "stdout",
          "output_type": "stream",
          "text": [
            "Epoch 3/5: Train Loss: 0.6697, Val Loss: 0.6943 , Val Accuracy: 52.12%\n"
          ]
        },
        {
          "name": "stderr",
          "output_type": "stream",
          "text": [
            "Training: 100%|██████████| 54/54 [00:07<00:00,  7.70it/s]\n",
            "Validation: 100%|██████████| 14/14 [00:00<00:00, 18.75it/s]\n"
          ]
        },
        {
          "name": "stdout",
          "output_type": "stream",
          "text": [
            "Epoch 4/5: Train Loss: 0.6857, Val Loss: 0.6453 , Val Accuracy: 64.75%\n"
          ]
        },
        {
          "name": "stderr",
          "output_type": "stream",
          "text": [
            "Training: 100%|██████████| 54/54 [00:06<00:00,  7.72it/s]\n",
            "Validation: 100%|██████████| 14/14 [00:00<00:00, 19.42it/s]\n"
          ]
        },
        {
          "name": "stdout",
          "output_type": "stream",
          "text": [
            "Epoch 5/5: Train Loss: 0.5519, Val Loss: 0.5163 , Val Accuracy: 74.98%\n"
          ]
        },
        {
          "name": "stderr",
          "output_type": "stream",
          "text": [
            "100%|██████████| 67/67 [00:04<00:00, 16.74it/s]\n"
          ]
        },
        {
          "name": "stdout",
          "output_type": "stream",
          "text": [
            "Test Accuracy: 74.53%\n"
          ]
        },
        {
          "name": "stderr",
          "output_type": "stream",
          "text": [
            "Training: 100%|██████████| 54/54 [00:10<00:00,  5.00it/s]\n",
            "Validation: 100%|██████████| 14/14 [00:01<00:00, 12.03it/s]\n"
          ]
        },
        {
          "name": "stdout",
          "output_type": "stream",
          "text": [
            "Epoch 1/5: Train Loss: 0.6942, Val Loss: 0.6817 , Val Accuracy: 58.03%\n"
          ]
        },
        {
          "name": "stderr",
          "output_type": "stream",
          "text": [
            "Training: 100%|██████████| 54/54 [00:10<00:00,  5.13it/s]\n",
            "Validation: 100%|██████████| 14/14 [00:01<00:00, 11.97it/s]\n"
          ]
        },
        {
          "name": "stdout",
          "output_type": "stream",
          "text": [
            "Epoch 2/5: Train Loss: 0.6447, Val Loss: 0.5853 , Val Accuracy: 68.91%\n"
          ]
        },
        {
          "name": "stderr",
          "output_type": "stream",
          "text": [
            "Training: 100%|██████████| 54/54 [00:10<00:00,  5.11it/s]\n",
            "Validation: 100%|██████████| 14/14 [00:01<00:00, 11.87it/s]\n"
          ]
        },
        {
          "name": "stdout",
          "output_type": "stream",
          "text": [
            "Epoch 3/5: Train Loss: 0.4980, Val Loss: 2.1057 , Val Accuracy: 52.92%\n"
          ]
        },
        {
          "name": "stderr",
          "output_type": "stream",
          "text": [
            "Training: 100%|██████████| 54/54 [00:10<00:00,  5.12it/s]\n",
            "Validation: 100%|██████████| 14/14 [00:01<00:00, 12.06it/s]\n"
          ]
        },
        {
          "name": "stdout",
          "output_type": "stream",
          "text": [
            "Epoch 4/5: Train Loss: 0.5938, Val Loss: 0.7013 , Val Accuracy: 54.59%\n"
          ]
        },
        {
          "name": "stderr",
          "output_type": "stream",
          "text": [
            "Training: 100%|██████████| 54/54 [00:10<00:00,  5.10it/s]\n",
            "Validation: 100%|██████████| 14/14 [00:01<00:00, 11.96it/s]\n"
          ]
        },
        {
          "name": "stdout",
          "output_type": "stream",
          "text": [
            "Epoch 5/5: Train Loss: 0.6147, Val Loss: 0.5049 , Val Accuracy: 76.97%\n"
          ]
        },
        {
          "name": "stderr",
          "output_type": "stream",
          "text": [
            "100%|██████████| 67/67 [00:06<00:00, 11.13it/s]\n"
          ]
        },
        {
          "name": "stdout",
          "output_type": "stream",
          "text": [
            "Test Accuracy: 76.06%\n"
          ]
        },
        {
          "name": "stderr",
          "output_type": "stream",
          "text": [
            "Training: 100%|██████████| 54/54 [06:11<00:00,  6.89s/it]\n",
            "Validation: 100%|██████████| 14/14 [00:08<00:00,  1.64it/s]\n"
          ]
        },
        {
          "name": "stdout",
          "output_type": "stream",
          "text": [
            "Epoch 1/5: Train Loss: 0.6929, Val Loss: 0.6995 , Val Accuracy: 57.51%\n"
          ]
        },
        {
          "name": "stderr",
          "output_type": "stream",
          "text": [
            "Training: 100%|██████████| 54/54 [05:54<00:00,  6.57s/it]\n",
            "Validation: 100%|██████████| 14/14 [00:08<00:00,  1.60it/s]\n"
          ]
        },
        {
          "name": "stdout",
          "output_type": "stream",
          "text": [
            "Epoch 2/5: Train Loss: 0.5372, Val Loss: 0.4657 , Val Accuracy: 79.92%\n"
          ]
        },
        {
          "name": "stderr",
          "output_type": "stream",
          "text": [
            "Training: 100%|██████████| 54/54 [05:55<00:00,  6.59s/it]\n",
            "Validation: 100%|██████████| 14/14 [00:08<00:00,  1.74it/s]\n"
          ]
        },
        {
          "name": "stdout",
          "output_type": "stream",
          "text": [
            "Epoch 3/5: Train Loss: 0.6615, Val Loss: 0.7091 , Val Accuracy: 52.30%\n"
          ]
        },
        {
          "name": "stderr",
          "output_type": "stream",
          "text": [
            "Training: 100%|██████████| 54/54 [05:55<00:00,  6.59s/it]\n",
            "Validation: 100%|██████████| 14/14 [00:08<00:00,  1.59it/s]\n"
          ]
        },
        {
          "name": "stdout",
          "output_type": "stream",
          "text": [
            "Epoch 4/5: Train Loss: 0.7000, Val Loss: 0.6931 , Val Accuracy: 51.42%\n"
          ]
        },
        {
          "name": "stderr",
          "output_type": "stream",
          "text": [
            "Training: 100%|██████████| 54/54 [05:53<00:00,  6.55s/it]\n",
            "Validation: 100%|██████████| 14/14 [00:08<00:00,  1.65it/s]\n"
          ]
        },
        {
          "name": "stdout",
          "output_type": "stream",
          "text": [
            "Epoch 5/5: Train Loss: 0.6931, Val Loss: 0.6946 , Val Accuracy: 48.88%\n"
          ]
        },
        {
          "name": "stderr",
          "output_type": "stream",
          "text": [
            "100%|██████████| 67/67 [00:21<00:00,  3.09it/s]\n"
          ]
        },
        {
          "name": "stdout",
          "output_type": "stream",
          "text": [
            "Test Accuracy: 50.26%\n"
          ]
        },
        {
          "name": "stderr",
          "output_type": "stream",
          "text": [
            "Training: 100%|██████████| 54/54 [05:57<00:00,  6.63s/it]\n",
            "Validation: 100%|██████████| 14/14 [00:04<00:00,  3.44it/s]\n"
          ]
        },
        {
          "name": "stdout",
          "output_type": "stream",
          "text": [
            "Epoch 1/5: Train Loss: 0.6949, Val Loss: 0.7040 , Val Accuracy: 53.57%\n"
          ]
        },
        {
          "name": "stderr",
          "output_type": "stream",
          "text": [
            "Training: 100%|██████████| 54/54 [05:35<00:00,  6.22s/it]\n",
            "Validation: 100%|██████████| 14/14 [00:04<00:00,  3.40it/s]\n"
          ]
        },
        {
          "name": "stdout",
          "output_type": "stream",
          "text": [
            "Epoch 2/5: Train Loss: 0.6712, Val Loss: 0.7007 , Val Accuracy: 53.84%\n"
          ]
        },
        {
          "name": "stderr",
          "output_type": "stream",
          "text": [
            "Training: 100%|██████████| 54/54 [05:34<00:00,  6.20s/it]\n",
            "Validation: 100%|██████████| 14/14 [00:04<00:00,  3.42it/s]\n"
          ]
        },
        {
          "name": "stdout",
          "output_type": "stream",
          "text": [
            "Epoch 3/5: Train Loss: 0.6935, Val Loss: 0.6907 , Val Accuracy: 53.27%\n"
          ]
        },
        {
          "name": "stderr",
          "output_type": "stream",
          "text": [
            "Training: 100%|██████████| 54/54 [05:20<00:00,  5.93s/it]\n",
            "Validation: 100%|██████████| 14/14 [00:03<00:00,  3.58it/s]\n"
          ]
        },
        {
          "name": "stdout",
          "output_type": "stream",
          "text": [
            "Epoch 4/5: Train Loss: 0.6883, Val Loss: 0.7245 , Val Accuracy: 54.09%\n"
          ]
        },
        {
          "name": "stderr",
          "output_type": "stream",
          "text": [
            "Training: 100%|██████████| 54/54 [05:09<00:00,  5.73s/it]\n",
            "Validation: 100%|██████████| 14/14 [00:03<00:00,  3.58it/s]\n"
          ]
        },
        {
          "name": "stdout",
          "output_type": "stream",
          "text": [
            "Epoch 5/5: Train Loss: 0.6821, Val Loss: 0.6477 , Val Accuracy: 63.57%\n"
          ]
        },
        {
          "name": "stderr",
          "output_type": "stream",
          "text": [
            "100%|██████████| 67/67 [00:19<00:00,  3.39it/s]"
          ]
        },
        {
          "name": "stdout",
          "output_type": "stream",
          "text": [
            "Test Accuracy: 60.06%\n"
          ]
        },
        {
          "name": "stderr",
          "output_type": "stream",
          "text": [
            "\n"
          ]
        }
      ],
      "source": [
        "hyperparameters = [\n",
        "    {'embedding_dim': 128, 'hidden_size': 128, 'batch_size': 300},\n",
        "    {'embedding_dim': 128, 'hidden_size': 256, 'batch_size': 300},\n",
        "    {'embedding_dim': 256, 'hidden_size': 512, 'batch_size': 300},\n",
        "    {'embedding_dim': 256, 'hidden_size': 256, 'batch_size': 300},\n",
        "]\n",
        "results = []\n",
        "\n",
        "for params in hyperparameters:\n",
        "    embedding_dim = params['embedding_dim']\n",
        "    hidden_size = params['hidden_size']\n",
        "    batch_size = params['batch_size']\n",
        "    train_dataloader = DataLoader(train_ds, batch_size=batch_size, shuffle=True)\n",
        "    val_dataloader = DataLoader(val_ds, batch_size=batch_size , shuffle= True)\n",
        "\n",
        "    learning_rate = 1e-3\n",
        "    epochs = 5\n",
        "    num_classes = len(set(train_labels))\n",
        "    vocab_size = len(word2idx)+1\n",
        "\n",
        "    model = RNN_Mean_Model(vocab_size, hidden_size, embedding_dim,5, num_classes).to(device)\n",
        "\n",
        "    train_losses, val_losses, val_accuracy = train_model(model, train_dataloader, val_dataloader)\n",
        "    test_accuracy = test(model , test_dataloader)\n",
        "    results.append({\n",
        "        'config': params,\n",
        "        'train_losses': train_losses,\n",
        "        'val_losses': val_losses,\n",
        "        'val_accuracy': val_accuracy,\n",
        "        'test_accuracy' : test_accuracy\n",
        "    })\n",
        "\n"
      ]
    },
    {
      "cell_type": "code",
      "execution_count": 23,
      "metadata": {},
      "outputs": [
        {
          "name": "stdout",
          "output_type": "stream",
          "text": [
            "\n",
            "Configuration 1:\n",
            "Embedding Dimension: 128, Hidden Size: 128, Batch Size: 300 , Accuracy : 74.5343\n",
            "\n",
            "\n",
            "Configuration 2:\n",
            "Embedding Dimension: 128, Hidden Size: 256, Batch Size: 300 , Accuracy : 76.0584\n",
            "\n",
            "\n",
            "Configuration 3:\n",
            "Embedding Dimension: 256, Hidden Size: 512, Batch Size: 300 , Accuracy : 50.2590\n",
            "\n",
            "\n",
            "Configuration 4:\n",
            "Embedding Dimension: 256, Hidden Size: 256, Batch Size: 300 , Accuracy : 60.0558\n",
            "\n"
          ]
        }
      ],
      "source": [
        "for i, result in enumerate(results):\n",
        "    config = result['config']\n",
        "    print(f\"\\nConfiguration {i + 1}:\")\n",
        "    avg_acc = sum(result['val_accuracy'])/len(result['val_accuracy'])\n",
        "    print(f\"Embedding Dimension: {config['embedding_dim']}, Hidden Size: {config['hidden_size']}, Batch Size: {config['batch_size']} , Accuracy : {result['test_accuracy']:.4f}\")\n",
        "    print()"
      ]
    },
    {
      "cell_type": "code",
      "execution_count": 25,
      "metadata": {},
      "outputs": [
        {
          "name": "stdout",
          "output_type": "stream",
          "text": [
            "\n",
            "Configuration 1:\n"
          ]
        },
        {
          "data": {
            "image/png": "[encoded data removed]",
            "text/plain": [
              "<Figure size 432x288 with 1 Axes>"
            ]
          },
          "metadata": {
            "needs_background": "light"
          },
          "output_type": "display_data"
        },
        {
          "name": "stdout",
          "output_type": "stream",
          "text": [
            "Embedding Dimension: 128, Hidden Size: 128, Batch Size: 300, Test Accuracy: 74.5343\n",
            "\n",
            "\n",
            "Configuration 2:\n"
          ]
        },
        {
          "data": {
            "image/png": "[encoded data removed]",
            "text/plain": [
              "<Figure size 432x288 with 1 Axes>"
            ]
          },
          "metadata": {
            "needs_background": "light"
          },
          "output_type": "display_data"
        },
        {
          "name": "stdout",
          "output_type": "stream",
          "text": [
            "Embedding Dimension: 128, Hidden Size: 256, Batch Size: 300, Test Accuracy: 76.0584\n",
            "\n",
            "\n",
            "Configuration 3:\n"
          ]
        },
        {
          "data": {
            "image/png": "[encoded data removed]",
            "text/plain": [
              "<Figure size 432x288 with 1 Axes>"
            ]
          },
          "metadata": {
            "needs_background": "light"
          },
          "output_type": "display_data"
        },
        {
          "name": "stdout",
          "output_type": "stream",
          "text": [
            "Embedding Dimension: 256, Hidden Size: 512, Batch Size: 300, Test Accuracy: 50.2590\n",
            "\n",
            "\n",
            "Configuration 4:\n"
          ]
        },
        {
          "data": {
            "image/png": "[encoded data removed]",
            "text/plain": [
              "<Figure size 432x288 with 1 Axes>"
            ]
          },
          "metadata": {
            "needs_background": "light"
          },
          "output_type": "display_data"
        },
        {
          "name": "stdout",
          "output_type": "stream",
          "text": [
            "Embedding Dimension: 256, Hidden Size: 256, Batch Size: 300, Test Accuracy: 60.0558\n",
            "\n"
          ]
        }
      ],
      "source": [
        "import matplotlib.pyplot as plt\n",
        "\n",
        "\n",
        "def plot_accuracy(val_accuracy):\n",
        "    plt.plot(val_accuracy, label='Validation Accuracy', color='green')\n",
        "    plt.xlabel('Epoch')\n",
        "    plt.ylabel('Accuracy')\n",
        "    plt.title('Validation Accuracy')\n",
        "    plt.legend()\n",
        "    plt.show()\n",
        "\n",
        "for i, result in enumerate(results):\n",
        "    config = result['config']\n",
        "    train_losses = result['train_losses']\n",
        "    val_losses = result['val_losses']\n",
        "    val_accuracy = result['val_accuracy']\n",
        "    test_accuracy = result['test_accuracy']\n",
        "\n",
        "    print(f\"\\nConfiguration {i + 1}:\")\n",
        "    \n",
        "    plot_accuracy(val_accuracy)\n",
        "\n",
        "    print(f\"Embedding Dimension: {config['embedding_dim']}, Hidden Size: {config['hidden_size']}, Batch Size: {config['batch_size']}, Test Accuracy: {test_accuracy:.4f}\\n\")\n"
      ]
    },
    {
      "cell_type": "markdown",
      "metadata": {},
      "source": [
        "- The general observation from the above graph is that when the dimension and the hidden size is less the model yields more accuracy as the dimensions and the hidden size increase the model yields comparatively low accuaray \n",
        "- The reason might be that the cause of very high dim and hidden size the model might be overfitting, this means cause of the more sizes the model is memorizing the data instead of generalising it thereby giving us less accuracy\n",
        "- And also theere is less data so cause of the higher dimensions and hidden sizes the model also needs very large data so this is giving us less accuracy and the same reason as the point 2"
      ]
    },
    {
      "cell_type": "markdown",
      "metadata": {
        "id": "791zabclpSgi"
      },
      "source": [
        "### 3. After RNNs\n",
        "#### 3.1 Keeping all the parameters same, replace the RNN layer with the LSTM layer using nn.LSTM. What changes do you observe ? Explain why LSTM layer would affect performance."
      ]
    },
    {
      "cell_type": "code",
      "execution_count": 22,
      "metadata": {
        "id": "lkbOdAMUrpgl"
      },
      "outputs": [],
      "source": [
        "class LSTMModel(nn.Module):\n",
        "    def __init__(self, vocab_size, embedding_dim, hidden_size, num_classes):\n",
        "        super(LSTMModel, self).__init__()\n",
        "        self.embedding = nn.Embedding(vocab_size, embedding_dim)\n",
        "        self.lstm1 = nn.LSTM(embedding_dim, hidden_size, batch_first=True)\n",
        "        #self.lstm2 = nn.LSTM(hidden_size, hidden_size, batch_first=True)\n",
        "        self.fc = nn.Linear(hidden_size, num_classes)\n",
        "\n",
        "    def forward(self, X):\n",
        "        embedded = self.embedding(X)\n",
        "        lstm_out1, _ = self.lstm1(embedded)\n",
        "        #lstm_out2, _ = self.lstm2(lstm_out1)\n",
        "        lstm_out2 = torch.mean(lstm_out1, dim=1)\n",
        "        logits = self.fc(lstm_out2)\n",
        "        return logits\n"
      ]
    },
    {
      "cell_type": "code",
      "execution_count": 23,
      "metadata": {
        "id": "hmlHasde9_yA"
      },
      "outputs": [],
      "source": [
        "# create dataloaders using the dataset\n",
        "params = {\n",
        "    'batch_size':300,\n",
        "    'shuffle': True,\n",
        "}\n",
        "\n",
        "train_dataloader = DataLoader(train_ds, **params)\n",
        "val_dataloader = DataLoader(val_ds, **params)\n",
        "test_dataloader = DataLoader(test_ds, **params)\n",
        "\n",
        "hidden_size = 256\n",
        "embedding_dim = 256\n",
        "learning_rate = 1e-3\n",
        "epochs = 5\n",
        "num_classes = len(set(train_labels))\n",
        "vocab_size = len(word2idx)+1\n",
        "\n",
        "# create the model\n",
        "model_LSTM = LSTMModel(vocab_size, hidden_size, embedding_dim, num_classes).to(device)\n"
      ]
    },
    {
      "cell_type": "code",
      "execution_count": 24,
      "metadata": {},
      "outputs": [
        {
          "name": "stdout",
          "output_type": "stream",
          "text": [
            "cuda\n"
          ]
        }
      ],
      "source": [
        "print(device)"
      ]
    },
    {
      "cell_type": "code",
      "execution_count": 25,
      "metadata": {
        "colab": {
          "base_uri": "https://localhost:8080/"
        },
        "id": "LHpH11Fk_3Vr",
        "outputId": "fc9b1dcd-3fcc-4809-9311-6bc9cb65b378"
      },
      "outputs": [
        {
          "name": "stderr",
          "output_type": "stream",
          "text": [
            "Training: 100%|██████████| 54/54 [00:21<00:00,  2.52it/s]\n",
            "Validation: 100%|██████████| 14/14 [00:02<00:00,  6.88it/s]\n"
          ]
        },
        {
          "name": "stdout",
          "output_type": "stream",
          "text": [
            "Epoch 1/10: Train Loss: 0.6877, Val Loss: 0.7013, Val Accuracy: 61.75%\n"
          ]
        },
        {
          "name": "stderr",
          "output_type": "stream",
          "text": [
            "Training: 100%|██████████| 54/54 [00:23<00:00,  2.33it/s]\n",
            "Validation: 100%|██████████| 14/14 [00:02<00:00,  6.41it/s]\n"
          ]
        },
        {
          "name": "stdout",
          "output_type": "stream",
          "text": [
            "Epoch 2/10: Train Loss: 0.6599, Val Loss: 0.6534, Val Accuracy: 63.67%\n"
          ]
        },
        {
          "name": "stderr",
          "output_type": "stream",
          "text": [
            "Training: 100%|██████████| 54/54 [00:22<00:00,  2.37it/s]\n",
            "Validation: 100%|██████████| 14/14 [00:02<00:00,  6.80it/s]\n"
          ]
        },
        {
          "name": "stdout",
          "output_type": "stream",
          "text": [
            "Epoch 3/10: Train Loss: 0.5875, Val Loss: 0.5393, Val Accuracy: 74.10%\n"
          ]
        },
        {
          "name": "stderr",
          "output_type": "stream",
          "text": [
            "Training: 100%|██████████| 54/54 [00:22<00:00,  2.39it/s]\n",
            "Validation: 100%|██████████| 14/14 [00:02<00:00,  6.78it/s]\n"
          ]
        },
        {
          "name": "stdout",
          "output_type": "stream",
          "text": [
            "Epoch 4/10: Train Loss: 0.4350, Val Loss: 0.4690, Val Accuracy: 79.74%\n"
          ]
        },
        {
          "name": "stderr",
          "output_type": "stream",
          "text": [
            "Training: 100%|██████████| 54/54 [00:22<00:00,  2.38it/s]\n",
            "Validation: 100%|██████████| 14/14 [00:02<00:00,  6.79it/s]\n"
          ]
        },
        {
          "name": "stdout",
          "output_type": "stream",
          "text": [
            "Epoch 5/10: Train Loss: 0.3169, Val Loss: 0.3677, Val Accuracy: 84.46%\n"
          ]
        },
        {
          "name": "stderr",
          "output_type": "stream",
          "text": [
            "Training: 100%|██████████| 54/54 [00:24<00:00,  2.23it/s]\n",
            "Validation: 100%|██████████| 14/14 [00:03<00:00,  3.66it/s]\n"
          ]
        },
        {
          "name": "stdout",
          "output_type": "stream",
          "text": [
            "Epoch 6/10: Train Loss: 0.2183, Val Loss: 0.3325, Val Accuracy: 86.23%\n"
          ]
        },
        {
          "name": "stderr",
          "output_type": "stream",
          "text": [
            "Training: 100%|██████████| 54/54 [00:44<00:00,  1.22it/s]\n",
            "Validation: 100%|██████████| 14/14 [00:03<00:00,  3.95it/s]\n"
          ]
        },
        {
          "name": "stdout",
          "output_type": "stream",
          "text": [
            "Epoch 7/10: Train Loss: 0.1456, Val Loss: 0.3768, Val Accuracy: 86.25%\n"
          ]
        },
        {
          "name": "stderr",
          "output_type": "stream",
          "text": [
            "Training: 100%|██████████| 54/54 [00:42<00:00,  1.26it/s]\n",
            "Validation: 100%|██████████| 14/14 [00:03<00:00,  3.94it/s]\n"
          ]
        },
        {
          "name": "stdout",
          "output_type": "stream",
          "text": [
            "Epoch 8/10: Train Loss: 0.1006, Val Loss: 0.3179, Val Accuracy: 87.10%\n"
          ]
        },
        {
          "name": "stderr",
          "output_type": "stream",
          "text": [
            "Training: 100%|██████████| 54/54 [00:43<00:00,  1.25it/s]\n",
            "Validation: 100%|██████████| 14/14 [00:03<00:00,  3.95it/s]\n"
          ]
        },
        {
          "name": "stdout",
          "output_type": "stream",
          "text": [
            "Epoch 9/10: Train Loss: 0.0802, Val Loss: 0.4464, Val Accuracy: 85.70%\n"
          ]
        },
        {
          "name": "stderr",
          "output_type": "stream",
          "text": [
            "Training: 100%|██████████| 54/54 [00:42<00:00,  1.26it/s]\n",
            "Validation: 100%|██████████| 14/14 [00:03<00:00,  4.00it/s]"
          ]
        },
        {
          "name": "stdout",
          "output_type": "stream",
          "text": [
            "Epoch 10/10: Train Loss: 0.0533, Val Loss: 0.4908, Val Accuracy: 86.63%\n"
          ]
        },
        {
          "name": "stderr",
          "output_type": "stream",
          "text": [
            "\n"
          ]
        }
      ],
      "source": [
        "train_losses, val_losses, val_accuracy = train_model(model_LSTM, train_dataloader, val_dataloader , epochs = 10)"
      ]
    },
    {
      "cell_type": "code",
      "execution_count": 26,
      "metadata": {},
      "outputs": [
        {
          "name": "stderr",
          "output_type": "stream",
          "text": [
            "100%|██████████| 67/67 [00:16<00:00,  4.15it/s]"
          ]
        },
        {
          "name": "stdout",
          "output_type": "stream",
          "text": [
            "Test Accuracy: 84.88%\n"
          ]
        },
        {
          "name": "stderr",
          "output_type": "stream",
          "text": [
            "\n"
          ]
        }
      ],
      "source": [
        "def test(model, test_loader):\n",
        "    model.eval()\n",
        "    correct = 0\n",
        "    total = 0\n",
        "\n",
        "    with torch.no_grad():\n",
        "        for input_batch, output_batch in tqdm(test_loader):\n",
        "            input_batch, output_batch = input_batch.to(device), output_batch.to(device)\n",
        "            #get outputs from the trained model\n",
        "            pred_outputs = model(input_batch)\n",
        "            _, predicted = torch.max(pred_outputs, dim=1)  # Get predicted class labels\n",
        "            total += output_batch.size(0)\n",
        "            correct += (predicted == output_batch).sum().item()\n",
        "\n",
        "    accuracy = 100 * (correct / total)\n",
        "    print(f\"Test Accuracy: {accuracy:.2f}%\")\n",
        "    return accuracy\n",
        "\n",
        "accuracy = test(model_LSTM, test_dataloader)"
      ]
    }
  ],
  "metadata": {
    "colab": {
      "provenance": []
    },
    "kernelspec": {
      "display_name": "Python 3",
      "name": "python3"
    },
    "language_info": {
      "codemirror_mode": {
        "name": "ipython",
        "version": 3
      },
      "file_extension": ".py",
      "mimetype": "text/x-python",
      "name": "python",
      "nbconvert_exporter": "python",
      "pygments_lexer": "ipython3",
      "version": "3.9.9"
    },
    "widgets": {
      "application/vnd.jupyter.widget-state+json": {
        "0335aa36902f438ba2234b2f660f012e": {
          "model_module": "@jupyter-widgets/base",
          "model_module_version": "1.2.0",
          "model_name": "LayoutModel",
          "state": {
            "_model_module": "@jupyter-widgets/base",
            "_model_module_version": "1.2.0",
            "_model_name": "LayoutModel",
            "_view_count": null,
            "_view_module": "@jupyter-widgets/base",
            "_view_module_version": "1.2.0",
            "_view_name": "LayoutView",
            "align_content": null,
            "align_items": null,
            "align_self": null,
            "border": null,
            "bottom": null,
            "display": null,
            "flex": null,
            "flex_flow": null,
            "grid_area": null,
            "grid_auto_columns": null,
            "grid_auto_flow": null,
            "grid_auto_rows": null,
            "grid_column": null,
            "grid_gap": null,
            "grid_row": null,
            "grid_template_areas": null,
            "grid_template_columns": null,
            "grid_template_rows": null,
            "height": null,
            "justify_content": null,
            "justify_items": null,
            "left": null,
            "margin": null,
            "max_height": null,
            "max_width": null,
            "min_height": null,
            "min_width": null,
            "object_fit": null,
            "object_position": null,
            "order": null,
            "overflow": null,
            "overflow_x": null,
            "overflow_y": null,
            "padding": null,
            "right": null,
            "top": null,
            "visibility": null,
            "width": null
          }
        },
        "03f70466c16a41bf9eeec49e40725b70": {
          "model_module": "@jupyter-widgets/controls",
          "model_module_version": "1.5.0",
          "model_name": "DescriptionStyleModel",
          "state": {
            "_model_module": "@jupyter-widgets/controls",
            "_model_module_version": "1.5.0",
            "_model_name": "DescriptionStyleModel",
            "_view_count": null,
            "_view_module": "@jupyter-widgets/base",
            "_view_module_version": "1.2.0",
            "_view_name": "StyleView",
            "description_width": ""
          }
        },
        "05322307da37418a9ae45d126df721bf": {
          "model_module": "@jupyter-widgets/controls",
          "model_module_version": "1.5.0",
          "model_name": "FloatProgressModel",
          "state": {
            "_dom_classes": [],
            "_model_module": "@jupyter-widgets/controls",
            "_model_module_version": "1.5.0",
            "_model_name": "FloatProgressModel",
            "_view_count": null,
            "_view_module": "@jupyter-widgets/controls",
            "_view_module_version": "1.5.0",
            "_view_name": "ProgressView",
            "bar_style": "success",
            "description": "",
            "description_tooltip": null,
            "layout": "IPY_MODEL_9fa4864e366e43a9b4f54f0ad994c433",
            "max": 25000,
            "min": 0,
            "orientation": "horizontal",
            "style": "IPY_MODEL_246f52f855d342a199711cd0da0eb44a",
            "value": 25000
          }
        },
        "0606b6076e3d4efb8517b8c496bbc0a7": {
          "model_module": "@jupyter-widgets/controls",
          "model_module_version": "1.5.0",
          "model_name": "HTMLModel",
          "state": {
            "_dom_classes": [],
            "_model_module": "@jupyter-widgets/controls",
            "_model_module_version": "1.5.0",
            "_model_name": "HTMLModel",
            "_view_count": null,
            "_view_module": "@jupyter-widgets/controls",
            "_view_module_version": "1.5.0",
            "_view_name": "HTMLView",
            "description": "",
            "description_tooltip": null,
            "layout": "IPY_MODEL_56c683cc8d7b46b0bdcee5042707f242",
            "placeholder": "​",
            "style": "IPY_MODEL_4f0c59e6c100499498300101da12c1c4",
            "value": "Generating test split: 100%"
          }
        },
        "0874e3a4fdfb47d1a3ea065316f426d6": {
          "model_module": "@jupyter-widgets/controls",
          "model_module_version": "1.5.0",
          "model_name": "DescriptionStyleModel",
          "state": {
            "_model_module": "@jupyter-widgets/controls",
            "_model_module_version": "1.5.0",
            "_model_name": "DescriptionStyleModel",
            "_view_count": null,
            "_view_module": "@jupyter-widgets/base",
            "_view_module_version": "1.2.0",
            "_view_name": "StyleView",
            "description_width": ""
          }
        },
        "0c17333383984c7abc985572cb45b9f6": {
          "model_module": "@jupyter-widgets/base",
          "model_module_version": "1.2.0",
          "model_name": "LayoutModel",
          "state": {
            "_model_module": "@jupyter-widgets/base",
            "_model_module_version": "1.2.0",
            "_model_name": "LayoutModel",
            "_view_count": null,
            "_view_module": "@jupyter-widgets/base",
            "_view_module_version": "1.2.0",
            "_view_name": "LayoutView",
            "align_content": null,
            "align_items": null,
            "align_self": null,
            "border": null,
            "bottom": null,
            "display": null,
            "flex": null,
            "flex_flow": null,
            "grid_area": null,
            "grid_auto_columns": null,
            "grid_auto_flow": null,
            "grid_auto_rows": null,
            "grid_column": null,
            "grid_gap": null,
            "grid_row": null,
            "grid_template_areas": null,
            "grid_template_columns": null,
            "grid_template_rows": null,
            "height": null,
            "justify_content": null,
            "justify_items": null,
            "left": null,
            "margin": null,
            "max_height": null,
            "max_width": null,
            "min_height": null,
            "min_width": null,
            "object_fit": null,
            "object_position": null,
            "order": null,
            "overflow": null,
            "overflow_x": null,
            "overflow_y": null,
            "padding": null,
            "right": null,
            "top": null,
            "visibility": null,
            "width": null
          }
        },
        "0c5c457c2f854d46ae27346406ac7e5b": {
          "model_module": "@jupyter-widgets/base",
          "model_module_version": "1.2.0",
          "model_name": "LayoutModel",
          "state": {
            "_model_module": "@jupyter-widgets/base",
            "_model_module_version": "1.2.0",
            "_model_name": "LayoutModel",
            "_view_count": null,
            "_view_module": "@jupyter-widgets/base",
            "_view_module_version": "1.2.0",
            "_view_name": "LayoutView",
            "align_content": null,
            "align_items": null,
            "align_self": null,
            "border": null,
            "bottom": null,
            "display": null,
            "flex": null,
            "flex_flow": null,
            "grid_area": null,
            "grid_auto_columns": null,
            "grid_auto_flow": null,
            "grid_auto_rows": null,
            "grid_column": null,
            "grid_gap": null,
            "grid_row": null,
            "grid_template_areas": null,
            "grid_template_columns": null,
            "grid_template_rows": null,
            "height": null,
            "justify_content": null,
            "justify_items": null,
            "left": null,
            "margin": null,
            "max_height": null,
            "max_width": null,
            "min_height": null,
            "min_width": null,
            "object_fit": null,
            "object_position": null,
            "order": null,
            "overflow": null,
            "overflow_x": null,
            "overflow_y": null,
            "padding": null,
            "right": null,
            "top": null,
            "visibility": null,
            "width": null
          }
        },
        "0d5ec46b724f425bb591fc13aa6b37ff": {
          "model_module": "@jupyter-widgets/controls",
          "model_module_version": "1.5.0",
          "model_name": "DescriptionStyleModel",
          "state": {
            "_model_module": "@jupyter-widgets/controls",
            "_model_module_version": "1.5.0",
            "_model_name": "DescriptionStyleModel",
            "_view_count": null,
            "_view_module": "@jupyter-widgets/base",
            "_view_module_version": "1.2.0",
            "_view_name": "StyleView",
            "description_width": ""
          }
        },
        "0ffa2084723e43ce826fa0c50b1a4c6e": {
          "model_module": "@jupyter-widgets/controls",
          "model_module_version": "1.5.0",
          "model_name": "HTMLModel",
          "state": {
            "_dom_classes": [],
            "_model_module": "@jupyter-widgets/controls",
            "_model_module_version": "1.5.0",
            "_model_name": "HTMLModel",
            "_view_count": null,
            "_view_module": "@jupyter-widgets/controls",
            "_view_module_version": "1.5.0",
            "_view_name": "HTMLView",
            "description": "",
            "description_tooltip": null,
            "layout": "IPY_MODEL_856902926767403086fa4605a24d5266",
            "placeholder": "​",
            "style": "IPY_MODEL_03f70466c16a41bf9eeec49e40725b70",
            "value": " 20.5M/20.5M [00:00&lt;00:00, 46.0MB/s]"
          }
        },
        "135e681bccd54190933bf3f77fadd2a8": {
          "model_module": "@jupyter-widgets/controls",
          "model_module_version": "1.5.0",
          "model_name": "HTMLModel",
          "state": {
            "_dom_classes": [],
            "_model_module": "@jupyter-widgets/controls",
            "_model_module_version": "1.5.0",
            "_model_name": "HTMLModel",
            "_view_count": null,
            "_view_module": "@jupyter-widgets/controls",
            "_view_module_version": "1.5.0",
            "_view_name": "HTMLView",
            "description": "",
            "description_tooltip": null,
            "layout": "IPY_MODEL_202e73d12fc64ce19837714f8fb044bd",
            "placeholder": "​",
            "style": "IPY_MODEL_bedf627e870241bebe0950c3b41973db",
            "value": " 25000/25000 [00:00&lt;00:00, 94533.80 examples/s]"
          }
        },
        "139a8dc1e4bc4071b089a05cfe7dc0fa": {
          "model_module": "@jupyter-widgets/base",
          "model_module_version": "1.2.0",
          "model_name": "LayoutModel",
          "state": {
            "_model_module": "@jupyter-widgets/base",
            "_model_module_version": "1.2.0",
            "_model_name": "LayoutModel",
            "_view_count": null,
            "_view_module": "@jupyter-widgets/base",
            "_view_module_version": "1.2.0",
            "_view_name": "LayoutView",
            "align_content": null,
            "align_items": null,
            "align_self": null,
            "border": null,
            "bottom": null,
            "display": null,
            "flex": null,
            "flex_flow": null,
            "grid_area": null,
            "grid_auto_columns": null,
            "grid_auto_flow": null,
            "grid_auto_rows": null,
            "grid_column": null,
            "grid_gap": null,
            "grid_row": null,
            "grid_template_areas": null,
            "grid_template_columns": null,
            "grid_template_rows": null,
            "height": null,
            "justify_content": null,
            "justify_items": null,
            "left": null,
            "margin": null,
            "max_height": null,
            "max_width": null,
            "min_height": null,
            "min_width": null,
            "object_fit": null,
            "object_position": null,
            "order": null,
            "overflow": null,
            "overflow_x": null,
            "overflow_y": null,
            "padding": null,
            "right": null,
            "top": null,
            "visibility": null,
            "width": null
          }
        },
        "172c6791cb824bf0863380ff81c6e1bb": {
          "model_module": "@jupyter-widgets/controls",
          "model_module_version": "1.5.0",
          "model_name": "FloatProgressModel",
          "state": {
            "_dom_classes": [],
            "_model_module": "@jupyter-widgets/controls",
            "_model_module_version": "1.5.0",
            "_model_name": "FloatProgressModel",
            "_view_count": null,
            "_view_module": "@jupyter-widgets/controls",
            "_view_module_version": "1.5.0",
            "_view_name": "ProgressView",
            "bar_style": "success",
            "description": "",
            "description_tooltip": null,
            "layout": "IPY_MODEL_dfbed62101e9482d8a4452e003b00904",
            "max": 25000,
            "min": 0,
            "orientation": "horizontal",
            "style": "IPY_MODEL_e35a340a29d94a94b931c404ca365a7b",
            "value": 25000
          }
        },
        "202e73d12fc64ce19837714f8fb044bd": {
          "model_module": "@jupyter-widgets/base",
          "model_module_version": "1.2.0",
          "model_name": "LayoutModel",
          "state": {
            "_model_module": "@jupyter-widgets/base",
            "_model_module_version": "1.2.0",
            "_model_name": "LayoutModel",
            "_view_count": null,
            "_view_module": "@jupyter-widgets/base",
            "_view_module_version": "1.2.0",
            "_view_name": "LayoutView",
            "align_content": null,
            "align_items": null,
            "align_self": null,
            "border": null,
            "bottom": null,
            "display": null,
            "flex": null,
            "flex_flow": null,
            "grid_area": null,
            "grid_auto_columns": null,
            "grid_auto_flow": null,
            "grid_auto_rows": null,
            "grid_column": null,
            "grid_gap": null,
            "grid_row": null,
            "grid_template_areas": null,
            "grid_template_columns": null,
            "grid_template_rows": null,
            "height": null,
            "justify_content": null,
            "justify_items": null,
            "left": null,
            "margin": null,
            "max_height": null,
            "max_width": null,
            "min_height": null,
            "min_width": null,
            "object_fit": null,
            "object_position": null,
            "order": null,
            "overflow": null,
            "overflow_x": null,
            "overflow_y": null,
            "padding": null,
            "right": null,
            "top": null,
            "visibility": null,
            "width": null
          }
        },
        "246f52f855d342a199711cd0da0eb44a": {
          "model_module": "@jupyter-widgets/controls",
          "model_module_version": "1.5.0",
          "model_name": "ProgressStyleModel",
          "state": {
            "_model_module": "@jupyter-widgets/controls",
            "_model_module_version": "1.5.0",
            "_model_name": "ProgressStyleModel",
            "_view_count": null,
            "_view_module": "@jupyter-widgets/base",
            "_view_module_version": "1.2.0",
            "_view_name": "StyleView",
            "bar_color": null,
            "description_width": ""
          }
        },
        "2a463f76b03a418e9054901494f2d919": {
          "model_module": "@jupyter-widgets/controls",
          "model_module_version": "1.5.0",
          "model_name": "HTMLModel",
          "state": {
            "_dom_classes": [],
            "_model_module": "@jupyter-widgets/controls",
            "_model_module_version": "1.5.0",
            "_model_name": "HTMLModel",
            "_view_count": null,
            "_view_module": "@jupyter-widgets/controls",
            "_view_module_version": "1.5.0",
            "_view_name": "HTMLView",
            "description": "",
            "description_tooltip": null,
            "layout": "IPY_MODEL_0c17333383984c7abc985572cb45b9f6",
            "placeholder": "​",
            "style": "IPY_MODEL_0d5ec46b724f425bb591fc13aa6b37ff",
            "value": "Generating train split: 100%"
          }
        },
        "32b895358f0c4b51a7a5777bf9fe07b9": {
          "model_module": "@jupyter-widgets/base",
          "model_module_version": "1.2.0",
          "model_name": "LayoutModel",
          "state": {
            "_model_module": "@jupyter-widgets/base",
            "_model_module_version": "1.2.0",
            "_model_name": "LayoutModel",
            "_view_count": null,
            "_view_module": "@jupyter-widgets/base",
            "_view_module_version": "1.2.0",
            "_view_name": "LayoutView",
            "align_content": null,
            "align_items": null,
            "align_self": null,
            "border": null,
            "bottom": null,
            "display": null,
            "flex": null,
            "flex_flow": null,
            "grid_area": null,
            "grid_auto_columns": null,
            "grid_auto_flow": null,
            "grid_auto_rows": null,
            "grid_column": null,
            "grid_gap": null,
            "grid_row": null,
            "grid_template_areas": null,
            "grid_template_columns": null,
            "grid_template_rows": null,
            "height": null,
            "justify_content": null,
            "justify_items": null,
            "left": null,
            "margin": null,
            "max_height": null,
            "max_width": null,
            "min_height": null,
            "min_width": null,
            "object_fit": null,
            "object_position": null,
            "order": null,
            "overflow": null,
            "overflow_x": null,
            "overflow_y": null,
            "padding": null,
            "right": null,
            "top": null,
            "visibility": null,
            "width": null
          }
        },
        "37f0627fd039422d983a409226a82c19": {
          "model_module": "@jupyter-widgets/controls",
          "model_module_version": "1.5.0",
          "model_name": "HBoxModel",
          "state": {
            "_dom_classes": [],
            "_model_module": "@jupyter-widgets/controls",
            "_model_module_version": "1.5.0",
            "_model_name": "HBoxModel",
            "_view_count": null,
            "_view_module": "@jupyter-widgets/controls",
            "_view_module_version": "1.5.0",
            "_view_name": "HBoxView",
            "box_style": "",
            "children": [
              "IPY_MODEL_6783dffe23b24eeebd4d8e591362850d",
              "IPY_MODEL_a30924333d0f4fa59951beafcc08daaf",
              "IPY_MODEL_fc3fe5e122984d9690f6a6d5de05c7c7"
            ],
            "layout": "IPY_MODEL_8f9e979d25d64afa8cd3959591e4ca01"
          }
        },
        "3a8e988a35a44432956aa4cc09c3588f": {
          "model_module": "@jupyter-widgets/controls",
          "model_module_version": "1.5.0",
          "model_name": "DescriptionStyleModel",
          "state": {
            "_model_module": "@jupyter-widgets/controls",
            "_model_module_version": "1.5.0",
            "_model_name": "DescriptionStyleModel",
            "_view_count": null,
            "_view_module": "@jupyter-widgets/base",
            "_view_module_version": "1.2.0",
            "_view_name": "StyleView",
            "description_width": ""
          }
        },
        "3dfbdfde9fe5464b817c66aec77078d3": {
          "model_module": "@jupyter-widgets/controls",
          "model_module_version": "1.5.0",
          "model_name": "FloatProgressModel",
          "state": {
            "_dom_classes": [],
            "_model_module": "@jupyter-widgets/controls",
            "_model_module_version": "1.5.0",
            "_model_name": "FloatProgressModel",
            "_view_count": null,
            "_view_module": "@jupyter-widgets/controls",
            "_view_module_version": "1.5.0",
            "_view_name": "ProgressView",
            "bar_style": "success",
            "description": "",
            "description_tooltip": null,
            "layout": "IPY_MODEL_df223ed663e84edb9110bdff326b52df",
            "max": 50000,
            "min": 0,
            "orientation": "horizontal",
            "style": "IPY_MODEL_7f3c29f6180b40c6b404f7fe753d6e75",
            "value": 50000
          }
        },
        "42794996b9a64a09a80e4c64a8c82667": {
          "model_module": "@jupyter-widgets/controls",
          "model_module_version": "1.5.0",
          "model_name": "HTMLModel",
          "state": {
            "_dom_classes": [],
            "_model_module": "@jupyter-widgets/controls",
            "_model_module_version": "1.5.0",
            "_model_name": "HTMLModel",
            "_view_count": null,
            "_view_module": "@jupyter-widgets/controls",
            "_view_module_version": "1.5.0",
            "_view_name": "HTMLView",
            "description": "",
            "description_tooltip": null,
            "layout": "IPY_MODEL_d9666fa5924642698e9ae46b4b43819c",
            "placeholder": "​",
            "style": "IPY_MODEL_0874e3a4fdfb47d1a3ea065316f426d6",
            "value": "Generating unsupervised split: 100%"
          }
        },
        "42cf78d2f4a9430e90a617d95d65deb9": {
          "model_module": "@jupyter-widgets/controls",
          "model_module_version": "1.5.0",
          "model_name": "FloatProgressModel",
          "state": {
            "_dom_classes": [],
            "_model_module": "@jupyter-widgets/controls",
            "_model_module_version": "1.5.0",
            "_model_name": "FloatProgressModel",
            "_view_count": null,
            "_view_module": "@jupyter-widgets/controls",
            "_view_module_version": "1.5.0",
            "_view_name": "ProgressView",
            "bar_style": "success",
            "description": "",
            "description_tooltip": null,
            "layout": "IPY_MODEL_8a0f27dce2c845b0a80914488547c86d",
            "max": 20470363,
            "min": 0,
            "orientation": "horizontal",
            "style": "IPY_MODEL_67b18819538348fab85ef5f78ca8e607",
            "value": 20470363
          }
        },
        "485b298ecaf346a196e27edd7480f702": {
          "model_module": "@jupyter-widgets/controls",
          "model_module_version": "1.5.0",
          "model_name": "DescriptionStyleModel",
          "state": {
            "_model_module": "@jupyter-widgets/controls",
            "_model_module_version": "1.5.0",
            "_model_name": "DescriptionStyleModel",
            "_view_count": null,
            "_view_module": "@jupyter-widgets/base",
            "_view_module_version": "1.2.0",
            "_view_name": "StyleView",
            "description_width": ""
          }
        },
        "4c3fa2537ec34f698e05ff219163a17e": {
          "model_module": "@jupyter-widgets/base",
          "model_module_version": "1.2.0",
          "model_name": "LayoutModel",
          "state": {
            "_model_module": "@jupyter-widgets/base",
            "_model_module_version": "1.2.0",
            "_model_name": "LayoutModel",
            "_view_count": null,
            "_view_module": "@jupyter-widgets/base",
            "_view_module_version": "1.2.0",
            "_view_name": "LayoutView",
            "align_content": null,
            "align_items": null,
            "align_self": null,
            "border": null,
            "bottom": null,
            "display": null,
            "flex": null,
            "flex_flow": null,
            "grid_area": null,
            "grid_auto_columns": null,
            "grid_auto_flow": null,
            "grid_auto_rows": null,
            "grid_column": null,
            "grid_gap": null,
            "grid_row": null,
            "grid_template_areas": null,
            "grid_template_columns": null,
            "grid_template_rows": null,
            "height": null,
            "justify_content": null,
            "justify_items": null,
            "left": null,
            "margin": null,
            "max_height": null,
            "max_width": null,
            "min_height": null,
            "min_width": null,
            "object_fit": null,
            "object_position": null,
            "order": null,
            "overflow": null,
            "overflow_x": null,
            "overflow_y": null,
            "padding": null,
            "right": null,
            "top": null,
            "visibility": null,
            "width": null
          }
        },
        "4c7bf91e130641e4b714678d88234126": {
          "model_module": "@jupyter-widgets/controls",
          "model_module_version": "1.5.0",
          "model_name": "HBoxModel",
          "state": {
            "_dom_classes": [],
            "_model_module": "@jupyter-widgets/controls",
            "_model_module_version": "1.5.0",
            "_model_name": "HBoxModel",
            "_view_count": null,
            "_view_module": "@jupyter-widgets/controls",
            "_view_module_version": "1.5.0",
            "_view_name": "HBoxView",
            "box_style": "",
            "children": [
              "IPY_MODEL_f289b3ebc48543809eabec5dee2999cd",
              "IPY_MODEL_42cf78d2f4a9430e90a617d95d65deb9",
              "IPY_MODEL_0ffa2084723e43ce826fa0c50b1a4c6e"
            ],
            "layout": "IPY_MODEL_4d063106f8854b9b92e966a91aac4246"
          }
        },
        "4d063106f8854b9b92e966a91aac4246": {
          "model_module": "@jupyter-widgets/base",
          "model_module_version": "1.2.0",
          "model_name": "LayoutModel",
          "state": {
            "_model_module": "@jupyter-widgets/base",
            "_model_module_version": "1.2.0",
            "_model_name": "LayoutModel",
            "_view_count": null,
            "_view_module": "@jupyter-widgets/base",
            "_view_module_version": "1.2.0",
            "_view_name": "LayoutView",
            "align_content": null,
            "align_items": null,
            "align_self": null,
            "border": null,
            "bottom": null,
            "display": null,
            "flex": null,
            "flex_flow": null,
            "grid_area": null,
            "grid_auto_columns": null,
            "grid_auto_flow": null,
            "grid_auto_rows": null,
            "grid_column": null,
            "grid_gap": null,
            "grid_row": null,
            "grid_template_areas": null,
            "grid_template_columns": null,
            "grid_template_rows": null,
            "height": null,
            "justify_content": null,
            "justify_items": null,
            "left": null,
            "margin": null,
            "max_height": null,
            "max_width": null,
            "min_height": null,
            "min_width": null,
            "object_fit": null,
            "object_position": null,
            "order": null,
            "overflow": null,
            "overflow_x": null,
            "overflow_y": null,
            "padding": null,
            "right": null,
            "top": null,
            "visibility": null,
            "width": null
          }
        },
        "4dd05e94079f4bad85c6c7068b24dd4f": {
          "model_module": "@jupyter-widgets/base",
          "model_module_version": "1.2.0",
          "model_name": "LayoutModel",
          "state": {
            "_model_module": "@jupyter-widgets/base",
            "_model_module_version": "1.2.0",
            "_model_name": "LayoutModel",
            "_view_count": null,
            "_view_module": "@jupyter-widgets/base",
            "_view_module_version": "1.2.0",
            "_view_name": "LayoutView",
            "align_content": null,
            "align_items": null,
            "align_self": null,
            "border": null,
            "bottom": null,
            "display": null,
            "flex": null,
            "flex_flow": null,
            "grid_area": null,
            "grid_auto_columns": null,
            "grid_auto_flow": null,
            "grid_auto_rows": null,
            "grid_column": null,
            "grid_gap": null,
            "grid_row": null,
            "grid_template_areas": null,
            "grid_template_columns": null,
            "grid_template_rows": null,
            "height": null,
            "justify_content": null,
            "justify_items": null,
            "left": null,
            "margin": null,
            "max_height": null,
            "max_width": null,
            "min_height": null,
            "min_width": null,
            "object_fit": null,
            "object_position": null,
            "order": null,
            "overflow": null,
            "overflow_x": null,
            "overflow_y": null,
            "padding": null,
            "right": null,
            "top": null,
            "visibility": null,
            "width": null
          }
        },
        "4f0c59e6c100499498300101da12c1c4": {
          "model_module": "@jupyter-widgets/controls",
          "model_module_version": "1.5.0",
          "model_name": "DescriptionStyleModel",
          "state": {
            "_model_module": "@jupyter-widgets/controls",
            "_model_module_version": "1.5.0",
            "_model_name": "DescriptionStyleModel",
            "_view_count": null,
            "_view_module": "@jupyter-widgets/base",
            "_view_module_version": "1.2.0",
            "_view_name": "StyleView",
            "description_width": ""
          }
        },
        "5140c45ae36f465286f316e17555e667": {
          "model_module": "@jupyter-widgets/controls",
          "model_module_version": "1.5.0",
          "model_name": "HBoxModel",
          "state": {
            "_dom_classes": [],
            "_model_module": "@jupyter-widgets/controls",
            "_model_module_version": "1.5.0",
            "_model_name": "HBoxModel",
            "_view_count": null,
            "_view_module": "@jupyter-widgets/controls",
            "_view_module_version": "1.5.0",
            "_view_name": "HBoxView",
            "box_style": "",
            "children": [
              "IPY_MODEL_a88e8ddea6db43be84d944360a216ccb",
              "IPY_MODEL_930aeec726c1426d903422bb2dfa839f",
              "IPY_MODEL_96318fea93ba40638e75a5befa6f149f"
            ],
            "layout": "IPY_MODEL_db986778b33d464a9165406fa986bd12"
          }
        },
        "5392da0086974a37a1ef392ed8069afd": {
          "model_module": "@jupyter-widgets/base",
          "model_module_version": "1.2.0",
          "model_name": "LayoutModel",
          "state": {
            "_model_module": "@jupyter-widgets/base",
            "_model_module_version": "1.2.0",
            "_model_name": "LayoutModel",
            "_view_count": null,
            "_view_module": "@jupyter-widgets/base",
            "_view_module_version": "1.2.0",
            "_view_name": "LayoutView",
            "align_content": null,
            "align_items": null,
            "align_self": null,
            "border": null,
            "bottom": null,
            "display": null,
            "flex": null,
            "flex_flow": null,
            "grid_area": null,
            "grid_auto_columns": null,
            "grid_auto_flow": null,
            "grid_auto_rows": null,
            "grid_column": null,
            "grid_gap": null,
            "grid_row": null,
            "grid_template_areas": null,
            "grid_template_columns": null,
            "grid_template_rows": null,
            "height": null,
            "justify_content": null,
            "justify_items": null,
            "left": null,
            "margin": null,
            "max_height": null,
            "max_width": null,
            "min_height": null,
            "min_width": null,
            "object_fit": null,
            "object_position": null,
            "order": null,
            "overflow": null,
            "overflow_x": null,
            "overflow_y": null,
            "padding": null,
            "right": null,
            "top": null,
            "visibility": null,
            "width": null
          }
        },
        "53e631e3a3f8453aba49964ec243412d": {
          "model_module": "@jupyter-widgets/base",
          "model_module_version": "1.2.0",
          "model_name": "LayoutModel",
          "state": {
            "_model_module": "@jupyter-widgets/base",
            "_model_module_version": "1.2.0",
            "_model_name": "LayoutModel",
            "_view_count": null,
            "_view_module": "@jupyter-widgets/base",
            "_view_module_version": "1.2.0",
            "_view_name": "LayoutView",
            "align_content": null,
            "align_items": null,
            "align_self": null,
            "border": null,
            "bottom": null,
            "display": null,
            "flex": null,
            "flex_flow": null,
            "grid_area": null,
            "grid_auto_columns": null,
            "grid_auto_flow": null,
            "grid_auto_rows": null,
            "grid_column": null,
            "grid_gap": null,
            "grid_row": null,
            "grid_template_areas": null,
            "grid_template_columns": null,
            "grid_template_rows": null,
            "height": null,
            "justify_content": null,
            "justify_items": null,
            "left": null,
            "margin": null,
            "max_height": null,
            "max_width": null,
            "min_height": null,
            "min_width": null,
            "object_fit": null,
            "object_position": null,
            "order": null,
            "overflow": null,
            "overflow_x": null,
            "overflow_y": null,
            "padding": null,
            "right": null,
            "top": null,
            "visibility": null,
            "width": null
          }
        },
        "56c683cc8d7b46b0bdcee5042707f242": {
          "model_module": "@jupyter-widgets/base",
          "model_module_version": "1.2.0",
          "model_name": "LayoutModel",
          "state": {
            "_model_module": "@jupyter-widgets/base",
            "_model_module_version": "1.2.0",
            "_model_name": "LayoutModel",
            "_view_count": null,
            "_view_module": "@jupyter-widgets/base",
            "_view_module_version": "1.2.0",
            "_view_name": "LayoutView",
            "align_content": null,
            "align_items": null,
            "align_self": null,
            "border": null,
            "bottom": null,
            "display": null,
            "flex": null,
            "flex_flow": null,
            "grid_area": null,
            "grid_auto_columns": null,
            "grid_auto_flow": null,
            "grid_auto_rows": null,
            "grid_column": null,
            "grid_gap": null,
            "grid_row": null,
            "grid_template_areas": null,
            "grid_template_columns": null,
            "grid_template_rows": null,
            "height": null,
            "justify_content": null,
            "justify_items": null,
            "left": null,
            "margin": null,
            "max_height": null,
            "max_width": null,
            "min_height": null,
            "min_width": null,
            "object_fit": null,
            "object_position": null,
            "order": null,
            "overflow": null,
            "overflow_x": null,
            "overflow_y": null,
            "padding": null,
            "right": null,
            "top": null,
            "visibility": null,
            "width": null
          }
        },
        "5853cafb80d4412080a0c2dab5a9d8d9": {
          "model_module": "@jupyter-widgets/controls",
          "model_module_version": "1.5.0",
          "model_name": "ProgressStyleModel",
          "state": {
            "_model_module": "@jupyter-widgets/controls",
            "_model_module_version": "1.5.0",
            "_model_name": "ProgressStyleModel",
            "_view_count": null,
            "_view_module": "@jupyter-widgets/base",
            "_view_module_version": "1.2.0",
            "_view_name": "StyleView",
            "bar_color": null,
            "description_width": ""
          }
        },
        "6783dffe23b24eeebd4d8e591362850d": {
          "model_module": "@jupyter-widgets/controls",
          "model_module_version": "1.5.0",
          "model_name": "HTMLModel",
          "state": {
            "_dom_classes": [],
            "_model_module": "@jupyter-widgets/controls",
            "_model_module_version": "1.5.0",
            "_model_name": "HTMLModel",
            "_view_count": null,
            "_view_module": "@jupyter-widgets/controls",
            "_view_module_version": "1.5.0",
            "_view_name": "HTMLView",
            "description": "",
            "description_tooltip": null,
            "layout": "IPY_MODEL_e47684b5acf64305bc9ea5b35b043b39",
            "placeholder": "​",
            "style": "IPY_MODEL_485b298ecaf346a196e27edd7480f702",
            "value": "Downloading data: 100%"
          }
        },
        "67b18819538348fab85ef5f78ca8e607": {
          "model_module": "@jupyter-widgets/controls",
          "model_module_version": "1.5.0",
          "model_name": "ProgressStyleModel",
          "state": {
            "_model_module": "@jupyter-widgets/controls",
            "_model_module_version": "1.5.0",
            "_model_name": "ProgressStyleModel",
            "_view_count": null,
            "_view_module": "@jupyter-widgets/base",
            "_view_module_version": "1.2.0",
            "_view_name": "StyleView",
            "bar_color": null,
            "description_width": ""
          }
        },
        "67e04b15af2747be922dbc6f8d26f87e": {
          "model_module": "@jupyter-widgets/controls",
          "model_module_version": "1.5.0",
          "model_name": "DescriptionStyleModel",
          "state": {
            "_model_module": "@jupyter-widgets/controls",
            "_model_module_version": "1.5.0",
            "_model_name": "DescriptionStyleModel",
            "_view_count": null,
            "_view_module": "@jupyter-widgets/base",
            "_view_module_version": "1.2.0",
            "_view_name": "StyleView",
            "description_width": ""
          }
        },
        "685672206cc547c9ab696b6a54559eac": {
          "model_module": "@jupyter-widgets/controls",
          "model_module_version": "1.5.0",
          "model_name": "HBoxModel",
          "state": {
            "_dom_classes": [],
            "_model_module": "@jupyter-widgets/controls",
            "_model_module_version": "1.5.0",
            "_model_name": "HBoxModel",
            "_view_count": null,
            "_view_module": "@jupyter-widgets/controls",
            "_view_module_version": "1.5.0",
            "_view_name": "HBoxView",
            "box_style": "",
            "children": [
              "IPY_MODEL_0606b6076e3d4efb8517b8c496bbc0a7",
              "IPY_MODEL_172c6791cb824bf0863380ff81c6e1bb",
              "IPY_MODEL_135e681bccd54190933bf3f77fadd2a8"
            ],
            "layout": "IPY_MODEL_eafebb22d76b45e3829cf786c762e3c0"
          }
        },
        "724183869dcc4441a061fee798363da8": {
          "model_module": "@jupyter-widgets/controls",
          "model_module_version": "1.5.0",
          "model_name": "ProgressStyleModel",
          "state": {
            "_model_module": "@jupyter-widgets/controls",
            "_model_module_version": "1.5.0",
            "_model_name": "ProgressStyleModel",
            "_view_count": null,
            "_view_module": "@jupyter-widgets/base",
            "_view_module_version": "1.2.0",
            "_view_name": "StyleView",
            "bar_color": null,
            "description_width": ""
          }
        },
        "7f3c29f6180b40c6b404f7fe753d6e75": {
          "model_module": "@jupyter-widgets/controls",
          "model_module_version": "1.5.0",
          "model_name": "ProgressStyleModel",
          "state": {
            "_model_module": "@jupyter-widgets/controls",
            "_model_module_version": "1.5.0",
            "_model_name": "ProgressStyleModel",
            "_view_count": null,
            "_view_module": "@jupyter-widgets/base",
            "_view_module_version": "1.2.0",
            "_view_name": "StyleView",
            "bar_color": null,
            "description_width": ""
          }
        },
        "856902926767403086fa4605a24d5266": {
          "model_module": "@jupyter-widgets/base",
          "model_module_version": "1.2.0",
          "model_name": "LayoutModel",
          "state": {
            "_model_module": "@jupyter-widgets/base",
            "_model_module_version": "1.2.0",
            "_model_name": "LayoutModel",
            "_view_count": null,
            "_view_module": "@jupyter-widgets/base",
            "_view_module_version": "1.2.0",
            "_view_name": "LayoutView",
            "align_content": null,
            "align_items": null,
            "align_self": null,
            "border": null,
            "bottom": null,
            "display": null,
            "flex": null,
            "flex_flow": null,
            "grid_area": null,
            "grid_auto_columns": null,
            "grid_auto_flow": null,
            "grid_auto_rows": null,
            "grid_column": null,
            "grid_gap": null,
            "grid_row": null,
            "grid_template_areas": null,
            "grid_template_columns": null,
            "grid_template_rows": null,
            "height": null,
            "justify_content": null,
            "justify_items": null,
            "left": null,
            "margin": null,
            "max_height": null,
            "max_width": null,
            "min_height": null,
            "min_width": null,
            "object_fit": null,
            "object_position": null,
            "order": null,
            "overflow": null,
            "overflow_x": null,
            "overflow_y": null,
            "padding": null,
            "right": null,
            "top": null,
            "visibility": null,
            "width": null
          }
        },
        "8a0f27dce2c845b0a80914488547c86d": {
          "model_module": "@jupyter-widgets/base",
          "model_module_version": "1.2.0",
          "model_name": "LayoutModel",
          "state": {
            "_model_module": "@jupyter-widgets/base",
            "_model_module_version": "1.2.0",
            "_model_name": "LayoutModel",
            "_view_count": null,
            "_view_module": "@jupyter-widgets/base",
            "_view_module_version": "1.2.0",
            "_view_name": "LayoutView",
            "align_content": null,
            "align_items": null,
            "align_self": null,
            "border": null,
            "bottom": null,
            "display": null,
            "flex": null,
            "flex_flow": null,
            "grid_area": null,
            "grid_auto_columns": null,
            "grid_auto_flow": null,
            "grid_auto_rows": null,
            "grid_column": null,
            "grid_gap": null,
            "grid_row": null,
            "grid_template_areas": null,
            "grid_template_columns": null,
            "grid_template_rows": null,
            "height": null,
            "justify_content": null,
            "justify_items": null,
            "left": null,
            "margin": null,
            "max_height": null,
            "max_width": null,
            "min_height": null,
            "min_width": null,
            "object_fit": null,
            "object_position": null,
            "order": null,
            "overflow": null,
            "overflow_x": null,
            "overflow_y": null,
            "padding": null,
            "right": null,
            "top": null,
            "visibility": null,
            "width": null
          }
        },
        "8f9e979d25d64afa8cd3959591e4ca01": {
          "model_module": "@jupyter-widgets/base",
          "model_module_version": "1.2.0",
          "model_name": "LayoutModel",
          "state": {
            "_model_module": "@jupyter-widgets/base",
            "_model_module_version": "1.2.0",
            "_model_name": "LayoutModel",
            "_view_count": null,
            "_view_module": "@jupyter-widgets/base",
            "_view_module_version": "1.2.0",
            "_view_name": "LayoutView",
            "align_content": null,
            "align_items": null,
            "align_self": null,
            "border": null,
            "bottom": null,
            "display": null,
            "flex": null,
            "flex_flow": null,
            "grid_area": null,
            "grid_auto_columns": null,
            "grid_auto_flow": null,
            "grid_auto_rows": null,
            "grid_column": null,
            "grid_gap": null,
            "grid_row": null,
            "grid_template_areas": null,
            "grid_template_columns": null,
            "grid_template_rows": null,
            "height": null,
            "justify_content": null,
            "justify_items": null,
            "left": null,
            "margin": null,
            "max_height": null,
            "max_width": null,
            "min_height": null,
            "min_width": null,
            "object_fit": null,
            "object_position": null,
            "order": null,
            "overflow": null,
            "overflow_x": null,
            "overflow_y": null,
            "padding": null,
            "right": null,
            "top": null,
            "visibility": null,
            "width": null
          }
        },
        "909849cb50524859834f9748ecd64f4d": {
          "model_module": "@jupyter-widgets/controls",
          "model_module_version": "1.5.0",
          "model_name": "DescriptionStyleModel",
          "state": {
            "_model_module": "@jupyter-widgets/controls",
            "_model_module_version": "1.5.0",
            "_model_name": "DescriptionStyleModel",
            "_view_count": null,
            "_view_module": "@jupyter-widgets/base",
            "_view_module_version": "1.2.0",
            "_view_name": "StyleView",
            "description_width": ""
          }
        },
        "930aeec726c1426d903422bb2dfa839f": {
          "model_module": "@jupyter-widgets/controls",
          "model_module_version": "1.5.0",
          "model_name": "FloatProgressModel",
          "state": {
            "_dom_classes": [],
            "_model_module": "@jupyter-widgets/controls",
            "_model_module_version": "1.5.0",
            "_model_name": "FloatProgressModel",
            "_view_count": null,
            "_view_module": "@jupyter-widgets/controls",
            "_view_module_version": "1.5.0",
            "_view_name": "ProgressView",
            "bar_style": "success",
            "description": "",
            "description_tooltip": null,
            "layout": "IPY_MODEL_9a0849b4ec244ee88ab88287d338756b",
            "max": 20979968,
            "min": 0,
            "orientation": "horizontal",
            "style": "IPY_MODEL_5853cafb80d4412080a0c2dab5a9d8d9",
            "value": 20979968
          }
        },
        "95399545d18b47b7aab51fc150b3484c": {
          "model_module": "@jupyter-widgets/controls",
          "model_module_version": "1.5.0",
          "model_name": "HBoxModel",
          "state": {
            "_dom_classes": [],
            "_model_module": "@jupyter-widgets/controls",
            "_model_module_version": "1.5.0",
            "_model_name": "HBoxModel",
            "_view_count": null,
            "_view_module": "@jupyter-widgets/controls",
            "_view_module_version": "1.5.0",
            "_view_name": "HBoxView",
            "box_style": "",
            "children": [
              "IPY_MODEL_f8faa3e7f38d4f62ba37c193f35fb9df",
              "IPY_MODEL_f7a30d21a3b3497283cdb6c6075d8f6e",
              "IPY_MODEL_aa8846d033da43f482585021f895ac73"
            ],
            "layout": "IPY_MODEL_0c5c457c2f854d46ae27346406ac7e5b"
          }
        },
        "96318fea93ba40638e75a5befa6f149f": {
          "model_module": "@jupyter-widgets/controls",
          "model_module_version": "1.5.0",
          "model_name": "HTMLModel",
          "state": {
            "_dom_classes": [],
            "_model_module": "@jupyter-widgets/controls",
            "_model_module_version": "1.5.0",
            "_model_name": "HTMLModel",
            "_view_count": null,
            "_view_module": "@jupyter-widgets/controls",
            "_view_module_version": "1.5.0",
            "_view_name": "HTMLView",
            "description": "",
            "description_tooltip": null,
            "layout": "IPY_MODEL_bc2455b74e344df4936219c1da83aace",
            "placeholder": "​",
            "style": "IPY_MODEL_e4fae29dda874159bf2c0f7cde1264ad",
            "value": " 21.0M/21.0M [00:00&lt;00:00, 34.0MB/s]"
          }
        },
        "9a0849b4ec244ee88ab88287d338756b": {
          "model_module": "@jupyter-widgets/base",
          "model_module_version": "1.2.0",
          "model_name": "LayoutModel",
          "state": {
            "_model_module": "@jupyter-widgets/base",
            "_model_module_version": "1.2.0",
            "_model_name": "LayoutModel",
            "_view_count": null,
            "_view_module": "@jupyter-widgets/base",
            "_view_module_version": "1.2.0",
            "_view_name": "LayoutView",
            "align_content": null,
            "align_items": null,
            "align_self": null,
            "border": null,
            "bottom": null,
            "display": null,
            "flex": null,
            "flex_flow": null,
            "grid_area": null,
            "grid_auto_columns": null,
            "grid_auto_flow": null,
            "grid_auto_rows": null,
            "grid_column": null,
            "grid_gap": null,
            "grid_row": null,
            "grid_template_areas": null,
            "grid_template_columns": null,
            "grid_template_rows": null,
            "height": null,
            "justify_content": null,
            "justify_items": null,
            "left": null,
            "margin": null,
            "max_height": null,
            "max_width": null,
            "min_height": null,
            "min_width": null,
            "object_fit": null,
            "object_position": null,
            "order": null,
            "overflow": null,
            "overflow_x": null,
            "overflow_y": null,
            "padding": null,
            "right": null,
            "top": null,
            "visibility": null,
            "width": null
          }
        },
        "9fa4864e366e43a9b4f54f0ad994c433": {
          "model_module": "@jupyter-widgets/base",
          "model_module_version": "1.2.0",
          "model_name": "LayoutModel",
          "state": {
            "_model_module": "@jupyter-widgets/base",
            "_model_module_version": "1.2.0",
            "_model_name": "LayoutModel",
            "_view_count": null,
            "_view_module": "@jupyter-widgets/base",
            "_view_module_version": "1.2.0",
            "_view_name": "LayoutView",
            "align_content": null,
            "align_items": null,
            "align_self": null,
            "border": null,
            "bottom": null,
            "display": null,
            "flex": null,
            "flex_flow": null,
            "grid_area": null,
            "grid_auto_columns": null,
            "grid_auto_flow": null,
            "grid_auto_rows": null,
            "grid_column": null,
            "grid_gap": null,
            "grid_row": null,
            "grid_template_areas": null,
            "grid_template_columns": null,
            "grid_template_rows": null,
            "height": null,
            "justify_content": null,
            "justify_items": null,
            "left": null,
            "margin": null,
            "max_height": null,
            "max_width": null,
            "min_height": null,
            "min_width": null,
            "object_fit": null,
            "object_position": null,
            "order": null,
            "overflow": null,
            "overflow_x": null,
            "overflow_y": null,
            "padding": null,
            "right": null,
            "top": null,
            "visibility": null,
            "width": null
          }
        },
        "a30924333d0f4fa59951beafcc08daaf": {
          "model_module": "@jupyter-widgets/controls",
          "model_module_version": "1.5.0",
          "model_name": "FloatProgressModel",
          "state": {
            "_dom_classes": [],
            "_model_module": "@jupyter-widgets/controls",
            "_model_module_version": "1.5.0",
            "_model_name": "FloatProgressModel",
            "_view_count": null,
            "_view_module": "@jupyter-widgets/controls",
            "_view_module_version": "1.5.0",
            "_view_name": "ProgressView",
            "bar_style": "success",
            "description": "",
            "description_tooltip": null,
            "layout": "IPY_MODEL_e683f8e5e25047189133968bdc0895b3",
            "max": 41996509,
            "min": 0,
            "orientation": "horizontal",
            "style": "IPY_MODEL_cd5e67a0322c4c85a69d3b62ef34fb81",
            "value": 41996509
          }
        },
        "a3ef4787ab4d41b589af6714ba6a2bed": {
          "model_module": "@jupyter-widgets/base",
          "model_module_version": "1.2.0",
          "model_name": "LayoutModel",
          "state": {
            "_model_module": "@jupyter-widgets/base",
            "_model_module_version": "1.2.0",
            "_model_name": "LayoutModel",
            "_view_count": null,
            "_view_module": "@jupyter-widgets/base",
            "_view_module_version": "1.2.0",
            "_view_name": "LayoutView",
            "align_content": null,
            "align_items": null,
            "align_self": null,
            "border": null,
            "bottom": null,
            "display": null,
            "flex": null,
            "flex_flow": null,
            "grid_area": null,
            "grid_auto_columns": null,
            "grid_auto_flow": null,
            "grid_auto_rows": null,
            "grid_column": null,
            "grid_gap": null,
            "grid_row": null,
            "grid_template_areas": null,
            "grid_template_columns": null,
            "grid_template_rows": null,
            "height": null,
            "justify_content": null,
            "justify_items": null,
            "left": null,
            "margin": null,
            "max_height": null,
            "max_width": null,
            "min_height": null,
            "min_width": null,
            "object_fit": null,
            "object_position": null,
            "order": null,
            "overflow": null,
            "overflow_x": null,
            "overflow_y": null,
            "padding": null,
            "right": null,
            "top": null,
            "visibility": null,
            "width": null
          }
        },
        "a5520b7a56884ffea72b9e7745984ebf": {
          "model_module": "@jupyter-widgets/controls",
          "model_module_version": "1.5.0",
          "model_name": "HBoxModel",
          "state": {
            "_dom_classes": [],
            "_model_module": "@jupyter-widgets/controls",
            "_model_module_version": "1.5.0",
            "_model_name": "HBoxModel",
            "_view_count": null,
            "_view_module": "@jupyter-widgets/controls",
            "_view_module_version": "1.5.0",
            "_view_name": "HBoxView",
            "box_style": "",
            "children": [
              "IPY_MODEL_42794996b9a64a09a80e4c64a8c82667",
              "IPY_MODEL_3dfbdfde9fe5464b817c66aec77078d3",
              "IPY_MODEL_d4f981fc10124b1fa1f9ad7edf11ea62"
            ],
            "layout": "IPY_MODEL_32b895358f0c4b51a7a5777bf9fe07b9"
          }
        },
        "a88e8ddea6db43be84d944360a216ccb": {
          "model_module": "@jupyter-widgets/controls",
          "model_module_version": "1.5.0",
          "model_name": "HTMLModel",
          "state": {
            "_dom_classes": [],
            "_model_module": "@jupyter-widgets/controls",
            "_model_module_version": "1.5.0",
            "_model_name": "HTMLModel",
            "_view_count": null,
            "_view_module": "@jupyter-widgets/controls",
            "_view_module_version": "1.5.0",
            "_view_name": "HTMLView",
            "description": "",
            "description_tooltip": null,
            "layout": "IPY_MODEL_a3ef4787ab4d41b589af6714ba6a2bed",
            "placeholder": "​",
            "style": "IPY_MODEL_c0e3ee76015d4e0ba77fd5c9e9247c14",
            "value": "Downloading data: 100%"
          }
        },
        "aa7eeed1f31f4fb0b0d19d6826833584": {
          "model_module": "@jupyter-widgets/controls",
          "model_module_version": "1.5.0",
          "model_name": "DescriptionStyleModel",
          "state": {
            "_model_module": "@jupyter-widgets/controls",
            "_model_module_version": "1.5.0",
            "_model_name": "DescriptionStyleModel",
            "_view_count": null,
            "_view_module": "@jupyter-widgets/base",
            "_view_module_version": "1.2.0",
            "_view_name": "StyleView",
            "description_width": ""
          }
        },
        "aa8846d033da43f482585021f895ac73": {
          "model_module": "@jupyter-widgets/controls",
          "model_module_version": "1.5.0",
          "model_name": "HTMLModel",
          "state": {
            "_dom_classes": [],
            "_model_module": "@jupyter-widgets/controls",
            "_model_module_version": "1.5.0",
            "_model_name": "HTMLModel",
            "_view_count": null,
            "_view_module": "@jupyter-widgets/controls",
            "_view_module_version": "1.5.0",
            "_view_name": "HTMLView",
            "description": "",
            "description_tooltip": null,
            "layout": "IPY_MODEL_4dd05e94079f4bad85c6c7068b24dd4f",
            "placeholder": "​",
            "style": "IPY_MODEL_cbf823a2f48f4befa0dd4a6cf4b9a04e",
            "value": " 7.81k/7.81k [00:00&lt;00:00, 297kB/s]"
          }
        },
        "b95ddb2ec94c42b7b1e5247cfe443ac5": {
          "model_module": "@jupyter-widgets/controls",
          "model_module_version": "1.5.0",
          "model_name": "HBoxModel",
          "state": {
            "_dom_classes": [],
            "_model_module": "@jupyter-widgets/controls",
            "_model_module_version": "1.5.0",
            "_model_name": "HBoxModel",
            "_view_count": null,
            "_view_module": "@jupyter-widgets/controls",
            "_view_module_version": "1.5.0",
            "_view_name": "HBoxView",
            "box_style": "",
            "children": [
              "IPY_MODEL_2a463f76b03a418e9054901494f2d919",
              "IPY_MODEL_05322307da37418a9ae45d126df721bf",
              "IPY_MODEL_bd0e4948fb0243f0b296aee760cc595f"
            ],
            "layout": "IPY_MODEL_53e631e3a3f8453aba49964ec243412d"
          }
        },
        "bc2455b74e344df4936219c1da83aace": {
          "model_module": "@jupyter-widgets/base",
          "model_module_version": "1.2.0",
          "model_name": "LayoutModel",
          "state": {
            "_model_module": "@jupyter-widgets/base",
            "_model_module_version": "1.2.0",
            "_model_name": "LayoutModel",
            "_view_count": null,
            "_view_module": "@jupyter-widgets/base",
            "_view_module_version": "1.2.0",
            "_view_name": "LayoutView",
            "align_content": null,
            "align_items": null,
            "align_self": null,
            "border": null,
            "bottom": null,
            "display": null,
            "flex": null,
            "flex_flow": null,
            "grid_area": null,
            "grid_auto_columns": null,
            "grid_auto_flow": null,
            "grid_auto_rows": null,
            "grid_column": null,
            "grid_gap": null,
            "grid_row": null,
            "grid_template_areas": null,
            "grid_template_columns": null,
            "grid_template_rows": null,
            "height": null,
            "justify_content": null,
            "justify_items": null,
            "left": null,
            "margin": null,
            "max_height": null,
            "max_width": null,
            "min_height": null,
            "min_width": null,
            "object_fit": null,
            "object_position": null,
            "order": null,
            "overflow": null,
            "overflow_x": null,
            "overflow_y": null,
            "padding": null,
            "right": null,
            "top": null,
            "visibility": null,
            "width": null
          }
        },
        "bd0e4948fb0243f0b296aee760cc595f": {
          "model_module": "@jupyter-widgets/controls",
          "model_module_version": "1.5.0",
          "model_name": "HTMLModel",
          "state": {
            "_dom_classes": [],
            "_model_module": "@jupyter-widgets/controls",
            "_model_module_version": "1.5.0",
            "_model_name": "HTMLModel",
            "_view_count": null,
            "_view_module": "@jupyter-widgets/controls",
            "_view_module_version": "1.5.0",
            "_view_name": "HTMLView",
            "description": "",
            "description_tooltip": null,
            "layout": "IPY_MODEL_0335aa36902f438ba2234b2f660f012e",
            "placeholder": "​",
            "style": "IPY_MODEL_909849cb50524859834f9748ecd64f4d",
            "value": " 25000/25000 [00:00&lt;00:00, 77920.52 examples/s]"
          }
        },
        "bedf627e870241bebe0950c3b41973db": {
          "model_module": "@jupyter-widgets/controls",
          "model_module_version": "1.5.0",
          "model_name": "DescriptionStyleModel",
          "state": {
            "_model_module": "@jupyter-widgets/controls",
            "_model_module_version": "1.5.0",
            "_model_name": "DescriptionStyleModel",
            "_view_count": null,
            "_view_module": "@jupyter-widgets/base",
            "_view_module_version": "1.2.0",
            "_view_name": "StyleView",
            "description_width": ""
          }
        },
        "c0e3ee76015d4e0ba77fd5c9e9247c14": {
          "model_module": "@jupyter-widgets/controls",
          "model_module_version": "1.5.0",
          "model_name": "DescriptionStyleModel",
          "state": {
            "_model_module": "@jupyter-widgets/controls",
            "_model_module_version": "1.5.0",
            "_model_name": "DescriptionStyleModel",
            "_view_count": null,
            "_view_module": "@jupyter-widgets/base",
            "_view_module_version": "1.2.0",
            "_view_name": "StyleView",
            "description_width": ""
          }
        },
        "cbf823a2f48f4befa0dd4a6cf4b9a04e": {
          "model_module": "@jupyter-widgets/controls",
          "model_module_version": "1.5.0",
          "model_name": "DescriptionStyleModel",
          "state": {
            "_model_module": "@jupyter-widgets/controls",
            "_model_module_version": "1.5.0",
            "_model_name": "DescriptionStyleModel",
            "_view_count": null,
            "_view_module": "@jupyter-widgets/base",
            "_view_module_version": "1.2.0",
            "_view_name": "StyleView",
            "description_width": ""
          }
        },
        "cd5e67a0322c4c85a69d3b62ef34fb81": {
          "model_module": "@jupyter-widgets/controls",
          "model_module_version": "1.5.0",
          "model_name": "ProgressStyleModel",
          "state": {
            "_model_module": "@jupyter-widgets/controls",
            "_model_module_version": "1.5.0",
            "_model_name": "ProgressStyleModel",
            "_view_count": null,
            "_view_module": "@jupyter-widgets/base",
            "_view_module_version": "1.2.0",
            "_view_name": "StyleView",
            "bar_color": null,
            "description_width": ""
          }
        },
        "d4f981fc10124b1fa1f9ad7edf11ea62": {
          "model_module": "@jupyter-widgets/controls",
          "model_module_version": "1.5.0",
          "model_name": "HTMLModel",
          "state": {
            "_dom_classes": [],
            "_model_module": "@jupyter-widgets/controls",
            "_model_module_version": "1.5.0",
            "_model_name": "HTMLModel",
            "_view_count": null,
            "_view_module": "@jupyter-widgets/controls",
            "_view_module_version": "1.5.0",
            "_view_name": "HTMLView",
            "description": "",
            "description_tooltip": null,
            "layout": "IPY_MODEL_eabc4a87cdca4cea9a16253c2b2a9e90",
            "placeholder": "​",
            "style": "IPY_MODEL_67e04b15af2747be922dbc6f8d26f87e",
            "value": " 50000/50000 [00:00&lt;00:00, 91454.90 examples/s]"
          }
        },
        "d9666fa5924642698e9ae46b4b43819c": {
          "model_module": "@jupyter-widgets/base",
          "model_module_version": "1.2.0",
          "model_name": "LayoutModel",
          "state": {
            "_model_module": "@jupyter-widgets/base",
            "_model_module_version": "1.2.0",
            "_model_name": "LayoutModel",
            "_view_count": null,
            "_view_module": "@jupyter-widgets/base",
            "_view_module_version": "1.2.0",
            "_view_name": "LayoutView",
            "align_content": null,
            "align_items": null,
            "align_self": null,
            "border": null,
            "bottom": null,
            "display": null,
            "flex": null,
            "flex_flow": null,
            "grid_area": null,
            "grid_auto_columns": null,
            "grid_auto_flow": null,
            "grid_auto_rows": null,
            "grid_column": null,
            "grid_gap": null,
            "grid_row": null,
            "grid_template_areas": null,
            "grid_template_columns": null,
            "grid_template_rows": null,
            "height": null,
            "justify_content": null,
            "justify_items": null,
            "left": null,
            "margin": null,
            "max_height": null,
            "max_width": null,
            "min_height": null,
            "min_width": null,
            "object_fit": null,
            "object_position": null,
            "order": null,
            "overflow": null,
            "overflow_x": null,
            "overflow_y": null,
            "padding": null,
            "right": null,
            "top": null,
            "visibility": null,
            "width": null
          }
        },
        "da8f8e4ccd2c48a8a7eeb38d9b9dc947": {
          "model_module": "@jupyter-widgets/base",
          "model_module_version": "1.2.0",
          "model_name": "LayoutModel",
          "state": {
            "_model_module": "@jupyter-widgets/base",
            "_model_module_version": "1.2.0",
            "_model_name": "LayoutModel",
            "_view_count": null,
            "_view_module": "@jupyter-widgets/base",
            "_view_module_version": "1.2.0",
            "_view_name": "LayoutView",
            "align_content": null,
            "align_items": null,
            "align_self": null,
            "border": null,
            "bottom": null,
            "display": null,
            "flex": null,
            "flex_flow": null,
            "grid_area": null,
            "grid_auto_columns": null,
            "grid_auto_flow": null,
            "grid_auto_rows": null,
            "grid_column": null,
            "grid_gap": null,
            "grid_row": null,
            "grid_template_areas": null,
            "grid_template_columns": null,
            "grid_template_rows": null,
            "height": null,
            "justify_content": null,
            "justify_items": null,
            "left": null,
            "margin": null,
            "max_height": null,
            "max_width": null,
            "min_height": null,
            "min_width": null,
            "object_fit": null,
            "object_position": null,
            "order": null,
            "overflow": null,
            "overflow_x": null,
            "overflow_y": null,
            "padding": null,
            "right": null,
            "top": null,
            "visibility": null,
            "width": null
          }
        },
        "db986778b33d464a9165406fa986bd12": {
          "model_module": "@jupyter-widgets/base",
          "model_module_version": "1.2.0",
          "model_name": "LayoutModel",
          "state": {
            "_model_module": "@jupyter-widgets/base",
            "_model_module_version": "1.2.0",
            "_model_name": "LayoutModel",
            "_view_count": null,
            "_view_module": "@jupyter-widgets/base",
            "_view_module_version": "1.2.0",
            "_view_name": "LayoutView",
            "align_content": null,
            "align_items": null,
            "align_self": null,
            "border": null,
            "bottom": null,
            "display": null,
            "flex": null,
            "flex_flow": null,
            "grid_area": null,
            "grid_auto_columns": null,
            "grid_auto_flow": null,
            "grid_auto_rows": null,
            "grid_column": null,
            "grid_gap": null,
            "grid_row": null,
            "grid_template_areas": null,
            "grid_template_columns": null,
            "grid_template_rows": null,
            "height": null,
            "justify_content": null,
            "justify_items": null,
            "left": null,
            "margin": null,
            "max_height": null,
            "max_width": null,
            "min_height": null,
            "min_width": null,
            "object_fit": null,
            "object_position": null,
            "order": null,
            "overflow": null,
            "overflow_x": null,
            "overflow_y": null,
            "padding": null,
            "right": null,
            "top": null,
            "visibility": null,
            "width": null
          }
        },
        "df223ed663e84edb9110bdff326b52df": {
          "model_module": "@jupyter-widgets/base",
          "model_module_version": "1.2.0",
          "model_name": "LayoutModel",
          "state": {
            "_model_module": "@jupyter-widgets/base",
            "_model_module_version": "1.2.0",
            "_model_name": "LayoutModel",
            "_view_count": null,
            "_view_module": "@jupyter-widgets/base",
            "_view_module_version": "1.2.0",
            "_view_name": "LayoutView",
            "align_content": null,
            "align_items": null,
            "align_self": null,
            "border": null,
            "bottom": null,
            "display": null,
            "flex": null,
            "flex_flow": null,
            "grid_area": null,
            "grid_auto_columns": null,
            "grid_auto_flow": null,
            "grid_auto_rows": null,
            "grid_column": null,
            "grid_gap": null,
            "grid_row": null,
            "grid_template_areas": null,
            "grid_template_columns": null,
            "grid_template_rows": null,
            "height": null,
            "justify_content": null,
            "justify_items": null,
            "left": null,
            "margin": null,
            "max_height": null,
            "max_width": null,
            "min_height": null,
            "min_width": null,
            "object_fit": null,
            "object_position": null,
            "order": null,
            "overflow": null,
            "overflow_x": null,
            "overflow_y": null,
            "padding": null,
            "right": null,
            "top": null,
            "visibility": null,
            "width": null
          }
        },
        "dfbed62101e9482d8a4452e003b00904": {
          "model_module": "@jupyter-widgets/base",
          "model_module_version": "1.2.0",
          "model_name": "LayoutModel",
          "state": {
            "_model_module": "@jupyter-widgets/base",
            "_model_module_version": "1.2.0",
            "_model_name": "LayoutModel",
            "_view_count": null,
            "_view_module": "@jupyter-widgets/base",
            "_view_module_version": "1.2.0",
            "_view_name": "LayoutView",
            "align_content": null,
            "align_items": null,
            "align_self": null,
            "border": null,
            "bottom": null,
            "display": null,
            "flex": null,
            "flex_flow": null,
            "grid_area": null,
            "grid_auto_columns": null,
            "grid_auto_flow": null,
            "grid_auto_rows": null,
            "grid_column": null,
            "grid_gap": null,
            "grid_row": null,
            "grid_template_areas": null,
            "grid_template_columns": null,
            "grid_template_rows": null,
            "height": null,
            "justify_content": null,
            "justify_items": null,
            "left": null,
            "margin": null,
            "max_height": null,
            "max_width": null,
            "min_height": null,
            "min_width": null,
            "object_fit": null,
            "object_position": null,
            "order": null,
            "overflow": null,
            "overflow_x": null,
            "overflow_y": null,
            "padding": null,
            "right": null,
            "top": null,
            "visibility": null,
            "width": null
          }
        },
        "e35a340a29d94a94b931c404ca365a7b": {
          "model_module": "@jupyter-widgets/controls",
          "model_module_version": "1.5.0",
          "model_name": "ProgressStyleModel",
          "state": {
            "_model_module": "@jupyter-widgets/controls",
            "_model_module_version": "1.5.0",
            "_model_name": "ProgressStyleModel",
            "_view_count": null,
            "_view_module": "@jupyter-widgets/base",
            "_view_module_version": "1.2.0",
            "_view_name": "StyleView",
            "bar_color": null,
            "description_width": ""
          }
        },
        "e47684b5acf64305bc9ea5b35b043b39": {
          "model_module": "@jupyter-widgets/base",
          "model_module_version": "1.2.0",
          "model_name": "LayoutModel",
          "state": {
            "_model_module": "@jupyter-widgets/base",
            "_model_module_version": "1.2.0",
            "_model_name": "LayoutModel",
            "_view_count": null,
            "_view_module": "@jupyter-widgets/base",
            "_view_module_version": "1.2.0",
            "_view_name": "LayoutView",
            "align_content": null,
            "align_items": null,
            "align_self": null,
            "border": null,
            "bottom": null,
            "display": null,
            "flex": null,
            "flex_flow": null,
            "grid_area": null,
            "grid_auto_columns": null,
            "grid_auto_flow": null,
            "grid_auto_rows": null,
            "grid_column": null,
            "grid_gap": null,
            "grid_row": null,
            "grid_template_areas": null,
            "grid_template_columns": null,
            "grid_template_rows": null,
            "height": null,
            "justify_content": null,
            "justify_items": null,
            "left": null,
            "margin": null,
            "max_height": null,
            "max_width": null,
            "min_height": null,
            "min_width": null,
            "object_fit": null,
            "object_position": null,
            "order": null,
            "overflow": null,
            "overflow_x": null,
            "overflow_y": null,
            "padding": null,
            "right": null,
            "top": null,
            "visibility": null,
            "width": null
          }
        },
        "e4fae29dda874159bf2c0f7cde1264ad": {
          "model_module": "@jupyter-widgets/controls",
          "model_module_version": "1.5.0",
          "model_name": "DescriptionStyleModel",
          "state": {
            "_model_module": "@jupyter-widgets/controls",
            "_model_module_version": "1.5.0",
            "_model_name": "DescriptionStyleModel",
            "_view_count": null,
            "_view_module": "@jupyter-widgets/base",
            "_view_module_version": "1.2.0",
            "_view_name": "StyleView",
            "description_width": ""
          }
        },
        "e683f8e5e25047189133968bdc0895b3": {
          "model_module": "@jupyter-widgets/base",
          "model_module_version": "1.2.0",
          "model_name": "LayoutModel",
          "state": {
            "_model_module": "@jupyter-widgets/base",
            "_model_module_version": "1.2.0",
            "_model_name": "LayoutModel",
            "_view_count": null,
            "_view_module": "@jupyter-widgets/base",
            "_view_module_version": "1.2.0",
            "_view_name": "LayoutView",
            "align_content": null,
            "align_items": null,
            "align_self": null,
            "border": null,
            "bottom": null,
            "display": null,
            "flex": null,
            "flex_flow": null,
            "grid_area": null,
            "grid_auto_columns": null,
            "grid_auto_flow": null,
            "grid_auto_rows": null,
            "grid_column": null,
            "grid_gap": null,
            "grid_row": null,
            "grid_template_areas": null,
            "grid_template_columns": null,
            "grid_template_rows": null,
            "height": null,
            "justify_content": null,
            "justify_items": null,
            "left": null,
            "margin": null,
            "max_height": null,
            "max_width": null,
            "min_height": null,
            "min_width": null,
            "object_fit": null,
            "object_position": null,
            "order": null,
            "overflow": null,
            "overflow_x": null,
            "overflow_y": null,
            "padding": null,
            "right": null,
            "top": null,
            "visibility": null,
            "width": null
          }
        },
        "eabc4a87cdca4cea9a16253c2b2a9e90": {
          "model_module": "@jupyter-widgets/base",
          "model_module_version": "1.2.0",
          "model_name": "LayoutModel",
          "state": {
            "_model_module": "@jupyter-widgets/base",
            "_model_module_version": "1.2.0",
            "_model_name": "LayoutModel",
            "_view_count": null,
            "_view_module": "@jupyter-widgets/base",
            "_view_module_version": "1.2.0",
            "_view_name": "LayoutView",
            "align_content": null,
            "align_items": null,
            "align_self": null,
            "border": null,
            "bottom": null,
            "display": null,
            "flex": null,
            "flex_flow": null,
            "grid_area": null,
            "grid_auto_columns": null,
            "grid_auto_flow": null,
            "grid_auto_rows": null,
            "grid_column": null,
            "grid_gap": null,
            "grid_row": null,
            "grid_template_areas": null,
            "grid_template_columns": null,
            "grid_template_rows": null,
            "height": null,
            "justify_content": null,
            "justify_items": null,
            "left": null,
            "margin": null,
            "max_height": null,
            "max_width": null,
            "min_height": null,
            "min_width": null,
            "object_fit": null,
            "object_position": null,
            "order": null,
            "overflow": null,
            "overflow_x": null,
            "overflow_y": null,
            "padding": null,
            "right": null,
            "top": null,
            "visibility": null,
            "width": null
          }
        },
        "eafebb22d76b45e3829cf786c762e3c0": {
          "model_module": "@jupyter-widgets/base",
          "model_module_version": "1.2.0",
          "model_name": "LayoutModel",
          "state": {
            "_model_module": "@jupyter-widgets/base",
            "_model_module_version": "1.2.0",
            "_model_name": "LayoutModel",
            "_view_count": null,
            "_view_module": "@jupyter-widgets/base",
            "_view_module_version": "1.2.0",
            "_view_name": "LayoutView",
            "align_content": null,
            "align_items": null,
            "align_self": null,
            "border": null,
            "bottom": null,
            "display": null,
            "flex": null,
            "flex_flow": null,
            "grid_area": null,
            "grid_auto_columns": null,
            "grid_auto_flow": null,
            "grid_auto_rows": null,
            "grid_column": null,
            "grid_gap": null,
            "grid_row": null,
            "grid_template_areas": null,
            "grid_template_columns": null,
            "grid_template_rows": null,
            "height": null,
            "justify_content": null,
            "justify_items": null,
            "left": null,
            "margin": null,
            "max_height": null,
            "max_width": null,
            "min_height": null,
            "min_width": null,
            "object_fit": null,
            "object_position": null,
            "order": null,
            "overflow": null,
            "overflow_x": null,
            "overflow_y": null,
            "padding": null,
            "right": null,
            "top": null,
            "visibility": null,
            "width": null
          }
        },
        "f289b3ebc48543809eabec5dee2999cd": {
          "model_module": "@jupyter-widgets/controls",
          "model_module_version": "1.5.0",
          "model_name": "HTMLModel",
          "state": {
            "_dom_classes": [],
            "_model_module": "@jupyter-widgets/controls",
            "_model_module_version": "1.5.0",
            "_model_name": "HTMLModel",
            "_view_count": null,
            "_view_module": "@jupyter-widgets/controls",
            "_view_module_version": "1.5.0",
            "_view_name": "HTMLView",
            "description": "",
            "description_tooltip": null,
            "layout": "IPY_MODEL_5392da0086974a37a1ef392ed8069afd",
            "placeholder": "​",
            "style": "IPY_MODEL_aa7eeed1f31f4fb0b0d19d6826833584",
            "value": "Downloading data: 100%"
          }
        },
        "f6fac7007ce145dab5e8fd5e57cdb77a": {
          "model_module": "@jupyter-widgets/controls",
          "model_module_version": "1.5.0",
          "model_name": "DescriptionStyleModel",
          "state": {
            "_model_module": "@jupyter-widgets/controls",
            "_model_module_version": "1.5.0",
            "_model_name": "DescriptionStyleModel",
            "_view_count": null,
            "_view_module": "@jupyter-widgets/base",
            "_view_module_version": "1.2.0",
            "_view_name": "StyleView",
            "description_width": ""
          }
        },
        "f7a30d21a3b3497283cdb6c6075d8f6e": {
          "model_module": "@jupyter-widgets/controls",
          "model_module_version": "1.5.0",
          "model_name": "FloatProgressModel",
          "state": {
            "_dom_classes": [],
            "_model_module": "@jupyter-widgets/controls",
            "_model_module_version": "1.5.0",
            "_model_name": "FloatProgressModel",
            "_view_count": null,
            "_view_module": "@jupyter-widgets/controls",
            "_view_module_version": "1.5.0",
            "_view_name": "ProgressView",
            "bar_style": "success",
            "description": "",
            "description_tooltip": null,
            "layout": "IPY_MODEL_da8f8e4ccd2c48a8a7eeb38d9b9dc947",
            "max": 7809,
            "min": 0,
            "orientation": "horizontal",
            "style": "IPY_MODEL_724183869dcc4441a061fee798363da8",
            "value": 7809
          }
        },
        "f8faa3e7f38d4f62ba37c193f35fb9df": {
          "model_module": "@jupyter-widgets/controls",
          "model_module_version": "1.5.0",
          "model_name": "HTMLModel",
          "state": {
            "_dom_classes": [],
            "_model_module": "@jupyter-widgets/controls",
            "_model_module_version": "1.5.0",
            "_model_name": "HTMLModel",
            "_view_count": null,
            "_view_module": "@jupyter-widgets/controls",
            "_view_module_version": "1.5.0",
            "_view_name": "HTMLView",
            "description": "",
            "description_tooltip": null,
            "layout": "IPY_MODEL_4c3fa2537ec34f698e05ff219163a17e",
            "placeholder": "​",
            "style": "IPY_MODEL_f6fac7007ce145dab5e8fd5e57cdb77a",
            "value": "Downloading readme: 100%"
          }
        },
        "fc3fe5e122984d9690f6a6d5de05c7c7": {
          "model_module": "@jupyter-widgets/controls",
          "model_module_version": "1.5.0",
          "model_name": "HTMLModel",
          "state": {
            "_dom_classes": [],
            "_model_module": "@jupyter-widgets/controls",
            "_model_module_version": "1.5.0",
            "_model_name": "HTMLModel",
            "_view_count": null,
            "_view_module": "@jupyter-widgets/controls",
            "_view_module_version": "1.5.0",
            "_view_name": "HTMLView",
            "description": "",
            "description_tooltip": null,
            "layout": "IPY_MODEL_139a8dc1e4bc4071b089a05cfe7dc0fa",
            "placeholder": "​",
            "style": "IPY_MODEL_3a8e988a35a44432956aa4cc09c3588f",
            "value": " 42.0M/42.0M [00:01&lt;00:00, 23.5MB/s]"
          }
        }
      }
    }
  },
  "nbformat": 4,
  "nbformat_minor": 0
}
